{
 "cells": [
  {
   "cell_type": "code",
   "execution_count": 1,
   "id": "280bac6f-8044-4fb4-9b83-feb1325f27e9",
   "metadata": {
    "tags": []
   },
   "outputs": [],
   "source": [
    "import sys\n",
    "\n",
    "sys.path.append('..')\n",
    "\n",
    "import torch\n",
    "import matplotlib.pyplot as plt\n",
    "import numpy as np \n",
    "import networkx as nx\n",
    "import seaborn as sns\n",
    "import pandas as pd\n",
    "\n",
    "from spikeometric.models import BernoulliGLM\n",
    "from spikeometric.stimulus import RegularStimulus\n",
    "from spikeometric.datasets import NormalGenerator, UniformGenerator\n",
    "from torch_geometric.utils import to_networkx, from_networkx, to_dense_adj\n",
    "\n",
    "from CD_methods import observational_learner_Poisson, interventional_learner_Poisson\n",
    "from functions import *"
   ]
  },
  {
   "cell_type": "code",
   "execution_count": 2,
   "id": "2290129f-ba3b-4608-84aa-497ac6ff40c2",
   "metadata": {
    "tags": []
   },
   "outputs": [],
   "source": [
    "# set up the neuron model\n",
    "neuron_model = BernoulliGLM(\n",
    "    theta=3.,\n",
    "    dt=1.,\n",
    "    coupling_window=3,\n",
    "    abs_ref_scale=1,\n",
    "    abs_ref_strength=-100,\n",
    "    rel_ref_scale=2,\n",
    "    rel_ref_strength=-30,\n",
    "    alpha=0.5,\n",
    "    beta=0.2,\n",
    "    r = 1\n",
    ")"
   ]
  },
  {
   "cell_type": "code",
   "execution_count": 3,
   "id": "80854bea-08eb-4c2e-8020-48d9ac9ad399",
   "metadata": {
    "tags": []
   },
   "outputs": [],
   "source": [
    "n_obs = 10\n",
    "n_hidden = 30\n",
    "n_networks = 1\n",
    "n_timesteps = 10**4\n",
    "p=0.1\n",
    "network_data = generate_networks(n_networks, n_neurons=n_obs+n_hidden, p=p)\n",
    "plot=True\n",
    "res={'SHD': [], 'sensitivity': [], 'specificity': [], 'F1': []}"
   ]
  },
  {
   "cell_type": "code",
   "execution_count": null,
   "id": "d14e0bfc-f8fd-4d25-af04-135610ba0319",
   "metadata": {
    "tags": []
   },
   "outputs": [
    {
     "name": "stderr",
     "output_type": "stream",
     "text": [
      " 80%|███████████████████████████████████▏        | 8/10 [00:06<00:01,  1.15it/s]"
     ]
    }
   ],
   "source": [
    "for i in range(n_networks):\n",
    "    network = network_data[i]\n",
    "    index_obs = np.sort(np.random.choice(n_obs+n_hidden, size = n_obs, replace = False))\n",
    "\n",
    "    spike_data = dict()\n",
    "    spikes = neuron_model.simulate(network, n_steps=n_timesteps, verbose=False)\n",
    "    spike_data['null'] = spikes[index_obs]\n",
    "\n",
    "    G = to_networkx(network)   \n",
    "    G_true = nx.subgraph(G, index_obs)\n",
    "    G_learned_null = observational_learner_Poisson(\n",
    "        spike_data, \n",
    "        node_list=index_obs, \n",
    "        alpha = 1e-2)\n",
    "\n",
    "    res['SHD'].append(compute_SHD(G_true, G_learned_null))\n",
    "\n",
    "    tp=count_true_positive(G_learned=G_learned_null, G_true=G_true, nodelist=index_obs)\n",
    "    fp=count_false_positive(G_learned=G_learned_null, G_true=G_true, nodelist=index_obs)\n",
    "    fn=count_false_negative(G_learned=G_learned_null, G_true=G_true, nodelist=index_obs)\n",
    "\n",
    "    res['sensitivity'].append(compute_sensitivity(G_learned=G_learned_null, G_true=G_true,nodelist=index_obs))\n",
    "    res['specificity'].append(compute_specificity(G_learned=G_learned_null, G_true=G_true,nodelist=index_obs))\n",
    "    res['F1'].append(2*tp/(2*tp+fp+fn))"
   ]
  },
  {
   "cell_type": "code",
   "execution_count": 29,
   "id": "a4350fe2-4ab1-4709-9d73-062a436d1442",
   "metadata": {
    "tags": []
   },
   "outputs": [
    {
     "data": {
      "text/plain": [
       "{'SHD': [2],\n",
       " 'sensitivity': [0.8],\n",
       " 'specificity': [1.0],\n",
       " 'F1': [0.8888888888888888]}"
      ]
     },
     "execution_count": 29,
     "metadata": {},
     "output_type": "execute_result"
    }
   ],
   "source": [
    "res"
   ]
  },
  {
   "cell_type": "code",
   "execution_count": 30,
   "id": "161a07c7-9e8f-4102-b67f-d80a8905d3e8",
   "metadata": {
    "tags": []
   },
   "outputs": [
    {
     "name": "stdout",
     "output_type": "stream",
     "text": [
      "[18, 37, 2, 13, 19, 20, 32, 33, 7, 27] [2, 2, 1, 1, 1, 1, 1, 1, 0, 0]\n"
     ]
    }
   ],
   "source": [
    "out_degree_sequence = sorted((d for n, d in G_learned_null.out_degree()), reverse=True)\n",
    "nodes_by_out_degree = [node for node, _ in sorted(G_learned_null.out_degree, key=lambda x: x[1], reverse=True)]\n",
    "print(nodes_by_out_degree, out_degree_sequence)"
   ]
  },
  {
   "cell_type": "code",
   "execution_count": 31,
   "id": "31b975a8-c5c8-4430-a044-14e5489fa2ee",
   "metadata": {
    "tags": []
   },
   "outputs": [
    {
     "data": {
      "image/png": "[encoded data removed]",
      "text/plain": [
       "<Figure size 400x300 with 1 Axes>"
      ]
     },
     "metadata": {},
     "output_type": "display_data"
    }
   ],
   "source": [
    "plt.figure(figsize=(4,3))\n",
    "plt.bar(*np.unique(out_degree_sequence, return_counts=True))\n",
    "plt.title(\"'Out' degree: number of edges pointing in out of the node\")\n",
    "plt.xlabel(\"out-degree\")\n",
    "plt.ylabel(\"# of nodes\")\n",
    "plt.show()"
   ]
  },
  {
   "cell_type": "code",
   "execution_count": 38,
   "id": "3fff1091-04d9-462c-b73b-604f413f08e3",
   "metadata": {
    "tags": []
   },
   "outputs": [],
   "source": [
    "def multiple_interventions_by_degree(G):\n",
    "    nodes_by_out_degree = [node for node, _ in sorted(G.out_degree, key=lambda x: x[1], reverse=True)]\n",
    "    intervention_sets = []\n",
    "    intervened_nodes_list = []\n",
    "\n",
    "    for node in nodes_by_out_degree:\n",
    "        if node not in intervened_nodes_list:\n",
    "            intervention_set = [node]\n",
    "            intervened_nodes_list.append(node)\n",
    "\n",
    "            target_nodes = [v for _, v in G.out_edges(node)]\n",
    "            nodes_not_target = [x for x in nodes_by_out_degree if x not in target_nodes and x!=node]\n",
    "\n",
    "            for new_node in nodes_not_target:\n",
    "\n",
    "                if new_node in intervened_nodes_list:\n",
    "                    continue\n",
    "\n",
    "                new_node_targets = [v for _, v in G.out_edges(new_node)]\n",
    "                new_node_sources = [u for u, _ in G.in_edges(new_node)]\n",
    "\n",
    "                if not new_node_targets: # if node has no targets\n",
    "                    intervened_nodes_list.append(new_node)\n",
    "                    continue\n",
    "\n",
    "                targets_no_overlap = len(set(target_nodes + new_node_targets)) == len(new_node_targets + target_nodes)\n",
    "                new_node_targets_not_in_invervention_set = len(set(new_node_targets + intervention_set)) == len(new_node_targets + intervention_set)\n",
    "                new_node_sources_not_in_invervention_set = len(set(new_node_sources + intervention_set)) == len(new_node_sources + intervention_set)\n",
    "\n",
    "                if targets_no_overlap and new_node_targets_not_in_invervention_set and new_node_sources_not_in_invervention_set:\n",
    "                    target_nodes.extend(new_node_targets)\n",
    "                    intervention_set.append(new_node)\n",
    "                    intervened_nodes_list.append(new_node)\n",
    "\n",
    "            intervention_sets.append(intervention_set)\n",
    "    return intervention_sets\n",
    "\n",
    "def single_intervetions_by_degree(G):\n",
    "    nodes_by_out_degree = [node for node, _ in sorted(G.out_degree, key=lambda x: x[1], reverse=True)]\n",
    "    return [[i] for i in nodes_by_out_degree]"
   ]
  },
  {
   "cell_type": "code",
   "execution_count": 40,
   "id": "1a7eb78e-aaa9-49af-b78e-dc7d165ad6ae",
   "metadata": {
    "tags": []
   },
   "outputs": [
    {
     "name": "stdout",
     "output_type": "stream",
     "text": [
      "[[18], [37], [2], [13], [19], [20], [32], [33], [7], [27]]\n"
     ]
    }
   ],
   "source": [
    "intervention_sets = single_intervetions_by_degree(G_learned_null)\n",
    "print(intervention_sets)"
   ]
  },
  {
   "cell_type": "code",
   "execution_count": 6,
   "id": "3b2db30f-62e7-4b05-af08-5dd2afaaaa6e",
   "metadata": {
    "tags": []
   },
   "outputs": [
    {
     "data": {
      "text/plain": [
       "array([1, 3, 4, 5])"
      ]
     },
     "execution_count": 6,
     "metadata": {},
     "output_type": "execute_result"
    }
   ],
   "source": [
    "ls=np.array([1,2,3,4,5])\n",
    "np.delete(ls, [1,2])\n",
    "np.delete(ls, [1])\n"
   ]
  },
  {
   "cell_type": "code",
   "execution_count": null,
   "id": "dce6dbc0-328a-4340-b0fd-feb74f11f8e9",
   "metadata": {},
   "outputs": [],
   "source": []
  }
 ],
 "metadata": {
  "kernelspec": {
   "display_name": "spikeenv",
   "language": "python",
   "name": "spikeenv"
  },
  "language_info": {
   "codemirror_mode": {
    "name": "ipython",
    "version": 3
   },
   "file_extension": ".py",
   "mimetype": "text/x-python",
   "name": "python",
   "nbconvert_exporter": "python",
   "pygments_lexer": "ipython3",
   "version": "3.11.6"
  }
 },
 "nbformat": 4,
 "nbformat_minor": 5
}
