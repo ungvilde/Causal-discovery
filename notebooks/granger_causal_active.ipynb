{
 "cells": [
  {
   "cell_type": "code",
   "execution_count": 1,
   "id": "280bac6f-8044-4fb4-9b83-feb1325f27e9",
   "metadata": {
    "tags": []
   },
   "outputs": [],
   "source": [
    "import sys\n",
    "\n",
    "sys.path.append('..')\n",
    "\n",
    "import torch\n",
    "import matplotlib.pyplot as plt\n",
    "import numpy as np \n",
    "import networkx as nx\n",
    "import seaborn as sns\n",
    "import pandas as pd\n",
    "\n",
    "from spikeometric.models import BernoulliGLM\n",
    "from spikeometric.stimulus import RegularStimulus\n",
    "from spikeometric.datasets import NormalGenerator, UniformGenerator\n",
    "from torch_geometric.utils import to_networkx, from_networkx, to_dense_adj\n",
    "\n",
    "from CD_methods import observational_learner_Poisson, interventional_learner_Poisson\n",
    "from functions import *"
   ]
  },
  {
   "cell_type": "code",
   "execution_count": 2,
   "id": "2290129f-ba3b-4608-84aa-497ac6ff40c2",
   "metadata": {
    "tags": []
   },
   "outputs": [],
   "source": [
    "# set up the neuron model\n",
    "neuron_model = BernoulliGLM(\n",
    "    theta=3.,\n",
    "    dt=1.,\n",
    "    coupling_window=3,\n",
    "    abs_ref_scale=1,\n",
    "    abs_ref_strength=-100,\n",
    "    rel_ref_scale=2,\n",
    "    rel_ref_strength=-30,\n",
    "    alpha=0.5,\n",
    "    beta=0.2,\n",
    "    r = 1\n",
    ")"
   ]
  },
  {
   "cell_type": "code",
   "execution_count": 3,
   "id": "80854bea-08eb-4c2e-8020-48d9ac9ad399",
   "metadata": {
    "tags": []
   },
   "outputs": [],
   "source": [
    "n_obs = 10\n",
    "n_hidden = 30\n",
    "n_networks = 1\n",
    "n_timesteps = 10**4\n",
    "p=0.3\n",
    "network_data = generate_networks(n_networks, n_neurons=n_obs+n_hidden, p=p)\n",
    "plot=True\n",
    "res={'SHD': [], 'sensitivity': [], 'specificity': [], 'F1': []}"
   ]
  },
  {
   "cell_type": "code",
   "execution_count": 4,
   "id": "d14e0bfc-f8fd-4d25-af04-135610ba0319",
   "metadata": {
    "tags": []
   },
   "outputs": [
    {
     "name": "stderr",
     "output_type": "stream",
     "text": [
      "100%|███████████████████████████████████████████| 10/10 [00:09<00:00,  1.07it/s]\n"
     ]
    }
   ],
   "source": [
    "for i in range(n_networks):\n",
    "    network = network_data[i]\n",
    "    index_obs = np.sort(np.random.choice(n_obs+n_hidden, size = n_obs, replace = False))\n",
    "\n",
    "    spike_data = dict()\n",
    "    spikes = neuron_model.simulate(network, n_steps=n_timesteps, verbose=False)\n",
    "    spike_data['null'] = spikes[index_obs]\n",
    "\n",
    "    G = to_networkx(network)   \n",
    "    G_true = nx.subgraph(G, index_obs)\n",
    "    G_learned_null = observational_learner_Poisson(\n",
    "        spike_data, \n",
    "        node_list=index_obs, \n",
    "        alpha = 1e-2)\n",
    "\n",
    "    res['SHD'].append(compute_SHD(G_true, G_learned_null))\n",
    "\n",
    "    tp=count_true_positive(G_learned=G_learned_null, G_true=G_true, nodelist=index_obs)\n",
    "    fp=count_false_positive(G_learned=G_learned_null, G_true=G_true, nodelist=index_obs)\n",
    "    fn=count_false_negative(G_learned=G_learned_null, G_true=G_true, nodelist=index_obs)\n",
    "\n",
    "    res['sensitivity'].append(compute_sensitivity(G_learned=G_learned_null, G_true=G_true,nodelist=index_obs))\n",
    "    res['specificity'].append(compute_specificity(G_learned=G_learned_null, G_true=G_true,nodelist=index_obs))\n",
    "    res['F1'].append(2*tp/(2*tp+fp+fn))"
   ]
  },
  {
   "cell_type": "code",
   "execution_count": 5,
   "id": "a4350fe2-4ab1-4709-9d73-062a436d1442",
   "metadata": {
    "tags": []
   },
   "outputs": [
    {
     "data": {
      "text/plain": [
       "{'SHD': [14],\n",
       " 'sensitivity': [0.6410256410256411],\n",
       " 'specificity': [1.0],\n",
       " 'F1': [0.78125]}"
      ]
     },
     "execution_count": 5,
     "metadata": {},
     "output_type": "execute_result"
    }
   ],
   "source": [
    "res"
   ]
  },
  {
   "cell_type": "code",
   "execution_count": 6,
   "id": "161a07c7-9e8f-4102-b67f-d80a8905d3e8",
   "metadata": {
    "tags": []
   },
   "outputs": [
    {
     "name": "stdout",
     "output_type": "stream",
     "text": [
      "[0, 9, 26, 30, 33, 31, 3, 5, 29, 23] [6, 6, 5, 5, 5, 4, 3, 3, 2, 0]\n"
     ]
    }
   ],
   "source": [
    "out_degree_sequence = sorted((d for n, d in G_learned_null.out_degree()), reverse=True)\n",
    "nodes_by_out_degree = [node for node, _ in sorted(G_learned_null.out_degree, key=lambda x: x[1], reverse=True)]\n",
    "print(nodes_by_out_degree, out_degree_sequence)"
   ]
  },
  {
   "cell_type": "code",
   "execution_count": 7,
   "id": "31b975a8-c5c8-4430-a044-14e5489fa2ee",
   "metadata": {
    "tags": []
   },
   "outputs": [
    {
     "data": {
      "image/png": "[encoded data removed]",
      "text/plain": [
       "<Figure size 400x300 with 1 Axes>"
      ]
     },
     "metadata": {},
     "output_type": "display_data"
    }
   ],
   "source": [
    "plt.figure(figsize=(4,3))\n",
    "plt.bar(*np.unique(out_degree_sequence, return_counts=True))\n",
    "plt.title(\"'Out' degree: number of edges pointing in out of the node\")\n",
    "plt.xlabel(\"out-degree\")\n",
    "plt.ylabel(\"# of nodes\")\n",
    "plt.show()"
   ]
  },
  {
   "cell_type": "code",
   "execution_count": 3,
   "id": "3fff1091-04d9-462c-b73b-604f413f08e3",
   "metadata": {
    "tags": []
   },
   "outputs": [],
   "source": [
    "def multiple_interventions_by_degree(G):\n",
    "    nodes_by_out_degree = [node for node, _ in sorted(G.out_degree, key=lambda x: x[1], reverse=True)]\n",
    "    intervention_sets = []\n",
    "    intervened_nodes_list = []\n",
    "\n",
    "    for node in nodes_by_out_degree:\n",
    "        if node not in intervened_nodes_list:\n",
    "            intervention_set = [node]\n",
    "            intervened_nodes_list.append(node)\n",
    "\n",
    "            target_nodes = [v for _, v in G.out_edges(node)]\n",
    "            nodes_not_target = [x for x in nodes_by_out_degree if x not in target_nodes and x!=node]\n",
    "\n",
    "            for new_node in nodes_not_target:\n",
    "\n",
    "                if new_node in intervened_nodes_list:\n",
    "                    continue\n",
    "\n",
    "                new_node_targets = [v for _, v in G.out_edges(new_node)]\n",
    "                new_node_sources = [u for u, _ in G.in_edges(new_node)]\n",
    "\n",
    "                if not new_node_targets: # if node has no targets\n",
    "                    intervened_nodes_list.append(new_node)\n",
    "                    continue\n",
    "\n",
    "                targets_no_overlap = len(set(target_nodes + new_node_targets)) == len(new_node_targets + target_nodes)\n",
    "                new_node_targets_not_in_invervention_set = len(set(new_node_targets + intervention_set)) == len(new_node_targets + intervention_set)\n",
    "                new_node_sources_not_in_invervention_set = len(set(new_node_sources + intervention_set)) == len(new_node_sources + intervention_set)\n",
    "\n",
    "                if targets_no_overlap and new_node_targets_not_in_invervention_set and new_node_sources_not_in_invervention_set:\n",
    "                    target_nodes.extend(new_node_targets)\n",
    "                    intervention_set.append(new_node)\n",
    "                    intervened_nodes_list.append(new_node)\n",
    "\n",
    "            intervention_sets.append(intervention_set)\n",
    "    return intervention_sets\n",
    "\n",
    "def single_intervetions_by_degree(G):\n",
    "    nodes_by_out_degree = [node for node, _ in sorted(G.out_degree, key=lambda x: x[1], reverse=True)]\n",
    "    return [[i] for i in nodes_by_out_degree]"
   ]
  },
  {
   "cell_type": "code",
   "execution_count": 5,
   "id": "809cf280-9c39-44e2-9412-c726e3da1a65",
   "metadata": {
    "tags": []
   },
   "outputs": [],
   "source": [
    "n_obs = 10\n",
    "n_hidden = 50\n",
    "n_networks = 10\n",
    "n_timesteps = 10**4\n",
    "p=0.1\n",
    "network_data = generate_networks(n_networks, n_neurons=n_obs+n_hidden, p=p)\n",
    "res={}\n",
    "res['by_degree'] = {'SHD':{}, 'fn':{}, 'fp':{}}\n",
    "res['random'] = {'SHD':{}, 'fn':{}, 'fp':{}}\n",
    "res['multi_by_degree'] = {'SHD':{}, 'fn':{}, 'fp':{}}\n",
    "\n",
    "# set up the neuron model\n",
    "neuron_model = BernoulliGLM(\n",
    "    theta=3.,\n",
    "    dt=1.,\n",
    "    coupling_window=3,\n",
    "    abs_ref_scale=1,\n",
    "    abs_ref_strength=-100,\n",
    "    rel_ref_scale=2,\n",
    "    rel_ref_strength=-30,\n",
    "    alpha=0.5,\n",
    "    beta=0.2,\n",
    "    r = 1\n",
    ")"
   ]
  },
  {
   "cell_type": "markdown",
   "id": "f4edf242-1f67-4cc4-8138-c07bfcc1c1b9",
   "metadata": {},
   "source": [
    "### singleton degree intervention"
   ]
  },
  {
   "cell_type": "code",
   "execution_count": 19,
   "id": "e4736ff3-a464-43c7-be18-ba26dd8352fd",
   "metadata": {
    "tags": []
   },
   "outputs": [
    {
     "name": "stderr",
     "output_type": "stream",
     "text": [
      "100%|███████████████████████████████████████████| 10/10 [00:11<00:00,  1.12s/it]\n"
     ]
    },
    {
     "name": "stdout",
     "output_type": "stream",
     "text": [
      "shd = 0 fp = 0 fn = 0\n"
     ]
    },
    {
     "name": "stderr",
     "output_type": "stream",
     "text": [
      "100%|█████████████████████████████████████████████| 1/1 [00:00<00:00,  1.62it/s]\n",
      "100%|█████████████████████████████████████████████| 1/1 [00:00<00:00,  2.47it/s]\n",
      "100%|█████████████████████████████████████████████| 1/1 [00:00<00:00,  3.06it/s]\n",
      "100%|█████████████████████████████████████████████| 1/1 [00:00<00:00,  4.04it/s]\n",
      "100%|█████████████████████████████████████████████| 1/1 [00:00<00:00,  7.64it/s]\n",
      "100%|██████████████████████████████████████████| 1/1 [00:00<00:00, 12985.46it/s]\n",
      "100%|███████████████████████████████████████████| 1/1 [00:00<00:00, 8128.50it/s]\n",
      "100%|██████████████████████████████████████████| 1/1 [00:00<00:00, 17549.39it/s]\n",
      "100%|██████████████████████████████████████████| 1/1 [00:00<00:00, 14716.86it/s]\n",
      "100%|██████████████████████████████████████████| 1/1 [00:00<00:00, 17189.77it/s]\n"
     ]
    },
    {
     "name": "stdout",
     "output_type": "stream",
     "text": [
      "[[32], [11, 41], [19, 57], [9]]\n"
     ]
    },
    {
     "name": "stderr",
     "output_type": "stream",
     "text": [
      "100%|█████████████████████████████████████████████| 1/1 [00:00<00:00,  1.75it/s]\n",
      "100%|█████████████████████████████████████████████| 1/1 [00:00<00:00,  1.44it/s]\n",
      "100%|█████████████████████████████████████████████| 1/1 [00:00<00:00,  2.65it/s]\n",
      "100%|██████████████████████████████████████████| 1/1 [00:00<00:00, 21732.15it/s]\n",
      "100%|█████████████████████████████████████████████| 1/1 [00:00<00:00,  1.78it/s]\n",
      "100%|██████████████████████████████████████████| 1/1 [00:00<00:00, 13842.59it/s]\n",
      "100%|██████████████████████████████████████████| 1/1 [00:00<00:00, 19972.88it/s]\n",
      "100%|██████████████████████████████████████████| 1/1 [00:00<00:00, 15650.39it/s]\n",
      "100%|█████████████████████████████████████████████| 1/1 [00:00<00:00,  3.13it/s]\n",
      "100%|█████████████████████████████████████████████| 1/1 [00:00<00:00,  2.65it/s]\n",
      "100%|█████████████████████████████████████████████| 1/1 [00:00<00:00,  7.00it/s]\n",
      "100%|█████████████████████████████████████████████| 1/1 [00:00<00:00,  3.73it/s]\n",
      "100%|██████████████████████████████████████████| 1/1 [00:00<00:00, 14873.42it/s]\n",
      "100%|███████████████████████████████████████████| 1/1 [00:00<00:00, 6543.38it/s]\n",
      "100%|███████████████████████████████████████████| 10/10 [00:08<00:00,  1.11it/s]\n"
     ]
    },
    {
     "name": "stdout",
     "output_type": "stream",
     "text": [
      "shd = 5 fp = 5 fn = 0\n"
     ]
    },
    {
     "name": "stderr",
     "output_type": "stream",
     "text": [
      "100%|█████████████████████████████████████████████| 1/1 [00:00<00:00,  1.25it/s]\n",
      "100%|█████████████████████████████████████████████| 1/1 [00:00<00:00,  1.83it/s]\n",
      "100%|█████████████████████████████████████████████| 1/1 [00:00<00:00,  1.75it/s]\n",
      "100%|█████████████████████████████████████████████| 1/1 [00:00<00:00,  5.02it/s]\n",
      "100%|█████████████████████████████████████████████| 1/1 [00:00<00:00,  5.16it/s]\n",
      "100%|█████████████████████████████████████████████| 1/1 [00:00<00:00,  5.52it/s]\n",
      "100%|██████████████████████████████████████████| 1/1 [00:00<00:00, 18157.16it/s]\n",
      "100%|██████████████████████████████████████████| 1/1 [00:00<00:00, 16912.52it/s]\n",
      "100%|██████████████████████████████████████████| 1/1 [00:00<00:00, 20360.70it/s]\n",
      "100%|██████████████████████████████████████████| 1/1 [00:00<00:00, 16578.28it/s]\n"
     ]
    },
    {
     "name": "stdout",
     "output_type": "stream",
     "text": [
      "[[57, 6], [12, 35], [50], [22]]\n"
     ]
    },
    {
     "name": "stderr",
     "output_type": "stream",
     "text": [
      "100%|█████████████████████████████████████████████| 1/1 [00:00<00:00,  1.23it/s]\n",
      "100%|█████████████████████████████████████████████| 1/1 [00:00<00:00,  1.33it/s]\n",
      "100%|█████████████████████████████████████████████| 1/1 [00:00<00:00,  1.65it/s]\n",
      "100%|█████████████████████████████████████████████| 1/1 [00:00<00:00,  3.52it/s]\n",
      "100%|█████████████████████████████████████████████| 1/1 [00:00<00:00,  5.34it/s]\n",
      "100%|██████████████████████████████████████████| 1/1 [00:00<00:00, 22192.08it/s]\n",
      "100%|██████████████████████████████████████████| 1/1 [00:00<00:00, 22310.13it/s]\n",
      "100%|█████████████████████████████████████████████| 1/1 [00:00<00:00,  1.99it/s]\n",
      "100%|█████████████████████████████████████████████| 1/1 [00:00<00:00,  1.59it/s]\n",
      "100%|█████████████████████████████████████████████| 1/1 [00:00<00:00,  7.35it/s]\n",
      "100%|█████████████████████████████████████████████| 1/1 [00:00<00:00,  1.78it/s]\n",
      "100%|█████████████████████████████████████████████| 1/1 [00:00<00:00,  5.63it/s]\n",
      "100%|██████████████████████████████████████████| 1/1 [00:00<00:00, 17189.77it/s]\n",
      "100%|██████████████████████████████████████████| 1/1 [00:00<00:00, 22795.13it/s]\n",
      "100%|███████████████████████████████████████████| 10/10 [00:09<00:00,  1.10it/s]\n"
     ]
    },
    {
     "name": "stdout",
     "output_type": "stream",
     "text": [
      "shd = 1 fp = 1 fn = 0\n"
     ]
    },
    {
     "name": "stderr",
     "output_type": "stream",
     "text": [
      "100%|█████████████████████████████████████████████| 1/1 [00:00<00:00,  1.81it/s]\n",
      "100%|█████████████████████████████████████████████| 1/1 [00:00<00:00,  2.70it/s]\n",
      "100%|█████████████████████████████████████████████| 1/1 [00:00<00:00,  1.85it/s]\n",
      "100%|█████████████████████████████████████████████| 1/1 [00:01<00:00,  1.23s/it]\n",
      "100%|█████████████████████████████████████████████| 1/1 [00:00<00:00,  2.81it/s]\n",
      "100%|█████████████████████████████████████████████| 1/1 [00:00<00:00,  1.42it/s]\n",
      "100%|█████████████████████████████████████████████| 1/1 [00:00<00:00,  5.46it/s]\n",
      "100%|█████████████████████████████████████████████| 1/1 [00:00<00:00,  5.26it/s]\n",
      "100%|██████████████████████████████████████████| 1/1 [00:00<00:00, 21183.35it/s]\n",
      "100%|███████████████████████████████████████████| 1/1 [00:00<00:00, 6754.11it/s]\n"
     ]
    },
    {
     "name": "stdout",
     "output_type": "stream",
     "text": [
      "[[12], [34, 41], [44, 45], [3], [22], [29]]\n"
     ]
    },
    {
     "name": "stderr",
     "output_type": "stream",
     "text": [
      "100%|█████████████████████████████████████████████| 1/1 [00:00<00:00,  1.67it/s]\n",
      "100%|█████████████████████████████████████████████| 1/1 [00:01<00:00,  1.31s/it]\n",
      "100%|█████████████████████████████████████████████| 1/1 [00:01<00:00,  1.20s/it]\n",
      "100%|█████████████████████████████████████████████| 1/1 [00:01<00:00,  1.07s/it]\n",
      "100%|█████████████████████████████████████████████| 1/1 [00:00<00:00,  2.88it/s]\n",
      "100%|█████████████████████████████████████████████| 1/1 [00:00<00:00,  5.24it/s]\n",
      "100%|█████████████████████████████████████████████| 1/1 [00:01<00:00,  1.02s/it]\n",
      "100%|█████████████████████████████████████████████| 1/1 [00:00<00:00,  1.87it/s]\n",
      "100%|█████████████████████████████████████████████| 1/1 [00:00<00:00,  2.49it/s]\n",
      "100%|█████████████████████████████████████████████| 1/1 [00:00<00:00,  2.03it/s]\n",
      "100%|█████████████████████████████████████████████| 1/1 [00:00<00:00,  1.78it/s]\n",
      "100%|█████████████████████████████████████████████| 1/1 [00:00<00:00,  5.10it/s]\n",
      "100%|█████████████████████████████████████████████| 1/1 [00:00<00:00,  2.87it/s]\n",
      "100%|██████████████████████████████████████████| 1/1 [00:00<00:00, 21290.88it/s]\n",
      "100%|██████████████████████████████████████████| 1/1 [00:00<00:00, 17476.27it/s]\n",
      "100%|█████████████████████████████████████████████| 1/1 [00:00<00:00,  5.15it/s]\n",
      "100%|███████████████████████████████████████████| 10/10 [00:08<00:00,  1.12it/s]\n"
     ]
    },
    {
     "name": "stdout",
     "output_type": "stream",
     "text": [
      "shd = 4 fp = 4 fn = 0\n"
     ]
    },
    {
     "name": "stderr",
     "output_type": "stream",
     "text": [
      "100%|█████████████████████████████████████████████| 1/1 [00:00<00:00,  2.04it/s]\n",
      "100%|█████████████████████████████████████████████| 1/1 [00:00<00:00,  3.14it/s]\n",
      "100%|█████████████████████████████████████████████| 1/1 [00:00<00:00,  2.80it/s]\n",
      "100%|█████████████████████████████████████████████| 1/1 [00:00<00:00,  2.49it/s]\n",
      "100%|█████████████████████████████████████████████| 1/1 [00:00<00:00,  5.20it/s]\n",
      "100%|██████████████████████████████████████████| 1/1 [00:00<00:00, 15827.56it/s]\n",
      "100%|██████████████████████████████████████████| 1/1 [00:00<00:00, 21290.88it/s]\n",
      "100%|██████████████████████████████████████████| 1/1 [00:00<00:00, 18558.87it/s]\n",
      "100%|██████████████████████████████████████████| 1/1 [00:00<00:00, 18558.87it/s]\n",
      "100%|██████████████████████████████████████████| 1/1 [00:00<00:00, 20460.02it/s]\n"
     ]
    },
    {
     "name": "stdout",
     "output_type": "stream",
     "text": [
      "[[23, 11, 7], [18, 21]]\n"
     ]
    },
    {
     "name": "stderr",
     "output_type": "stream",
     "text": [
      "100%|█████████████████████████████████████████████| 1/1 [00:01<00:00,  1.00s/it]\n",
      "100%|█████████████████████████████████████████████| 1/1 [00:00<00:00,  1.37it/s]\n",
      "100%|██████████████████████████████████████████| 1/1 [00:00<00:00, 17924.38it/s]\n",
      "100%|██████████████████████████████████████████| 1/1 [00:00<00:00, 19239.93it/s]\n",
      "100%|█████████████████████████████████████████████| 1/1 [00:00<00:00,  2.72it/s]\n",
      "100%|█████████████████████████████████████████████| 1/1 [00:00<00:00,  3.08it/s]\n",
      "100%|██████████████████████████████████████████| 1/1 [00:00<00:00, 14315.03it/s]\n",
      "100%|█████████████████████████████████████████████| 1/1 [00:00<00:00,  3.33it/s]\n",
      "100%|██████████████████████████████████████████| 1/1 [00:00<00:00, 17549.39it/s]\n",
      "100%|█████████████████████████████████████████████| 1/1 [00:00<00:00,  4.92it/s]\n",
      "100%|█████████████████████████████████████████████| 1/1 [00:00<00:00,  2.49it/s]\n",
      "100%|██████████████████████████████████████████| 1/1 [00:00<00:00, 19239.93it/s]\n",
      "100%|███████████████████████████████████████████| 10/10 [00:10<00:00,  1.05s/it]\n"
     ]
    },
    {
     "name": "stdout",
     "output_type": "stream",
     "text": [
      "shd = 0 fp = 0 fn = 0\n"
     ]
    },
    {
     "name": "stderr",
     "output_type": "stream",
     "text": [
      "100%|█████████████████████████████████████████████| 1/1 [00:00<00:00,  1.79it/s]\n",
      "100%|█████████████████████████████████████████████| 1/1 [00:00<00:00,  2.25it/s]\n",
      "100%|█████████████████████████████████████████████| 1/1 [00:00<00:00,  2.98it/s]\n",
      "100%|█████████████████████████████████████████████| 1/1 [00:00<00:00,  3.06it/s]\n",
      "100%|█████████████████████████████████████████████| 1/1 [00:00<00:00,  7.34it/s]\n",
      "100%|█████████████████████████████████████████████| 1/1 [00:00<00:00,  7.21it/s]\n",
      "100%|█████████████████████████████████████████████| 1/1 [00:00<00:00,  6.97it/s]\n",
      "100%|█████████████████████████████████████████████| 1/1 [00:00<00:00,  5.18it/s]\n",
      "100%|██████████████████████████████████████████| 1/1 [00:00<00:00, 17189.77it/s]\n",
      "100%|██████████████████████████████████████████| 1/1 [00:00<00:00, 19972.88it/s]\n"
     ]
    },
    {
     "name": "stdout",
     "output_type": "stream",
     "text": [
      "[[12, 26], [34, 28], [17, 47], [19], [32]]\n"
     ]
    },
    {
     "name": "stderr",
     "output_type": "stream",
     "text": [
      "100%|█████████████████████████████████████████████| 1/1 [00:00<00:00,  1.62it/s]\n",
      "100%|█████████████████████████████████████████████| 1/1 [00:00<00:00,  1.74it/s]\n",
      "100%|█████████████████████████████████████████████| 1/1 [00:00<00:00,  1.97it/s]\n",
      "100%|█████████████████████████████████████████████| 1/1 [00:00<00:00,  3.03it/s]\n",
      "100%|█████████████████████████████████████████████| 1/1 [00:00<00:00,  7.68it/s]\n",
      "100%|█████████████████████████████████████████████| 1/1 [00:00<00:00,  7.98it/s]\n",
      "100%|█████████████████████████████████████████████| 1/1 [00:00<00:00,  2.01it/s]\n",
      "100%|██████████████████████████████████████████| 1/1 [00:00<00:00, 24385.49it/s]\n",
      "100%|█████████████████████████████████████████████| 1/1 [00:00<00:00,  3.09it/s]\n",
      "100%|█████████████████████████████████████████████| 1/1 [00:00<00:00,  7.36it/s]\n",
      "100%|█████████████████████████████████████████████| 1/1 [00:00<00:00,  2.23it/s]\n",
      "100%|██████████████████████████████████████████| 1/1 [00:00<00:00, 17848.10it/s]\n",
      "100%|█████████████████████████████████████████████| 1/1 [00:00<00:00,  5.19it/s]\n",
      "100%|█████████████████████████████████████████████| 1/1 [00:00<00:00,  4.38it/s]\n",
      "100%|█████████████████████████████████████████████| 1/1 [00:00<00:00,  2.20it/s]\n",
      "100%|███████████████████████████████████████████| 10/10 [00:09<00:00,  1.06it/s]\n"
     ]
    },
    {
     "name": "stdout",
     "output_type": "stream",
     "text": [
      "shd = 2 fp = 2 fn = 0\n"
     ]
    },
    {
     "name": "stderr",
     "output_type": "stream",
     "text": [
      "100%|█████████████████████████████████████████████| 1/1 [00:00<00:00,  2.03it/s]\n",
      "100%|█████████████████████████████████████████████| 1/1 [00:00<00:00,  1.61it/s]\n",
      "100%|█████████████████████████████████████████████| 1/1 [00:00<00:00,  2.25it/s]\n",
      "100%|█████████████████████████████████████████████| 1/1 [00:00<00:00,  2.76it/s]\n",
      "100%|█████████████████████████████████████████████| 1/1 [00:00<00:00,  4.97it/s]\n",
      "100%|█████████████████████████████████████████████| 1/1 [00:00<00:00,  7.68it/s]\n",
      "100%|█████████████████████████████████████████████| 1/1 [00:00<00:00,  5.28it/s]\n",
      "100%|█████████████████████████████████████████████| 1/1 [00:00<00:00,  5.42it/s]\n",
      "100%|██████████████████████████████████████████| 1/1 [00:00<00:00, 24385.49it/s]\n",
      "100%|██████████████████████████████████████████| 1/1 [00:00<00:00, 20763.88it/s]\n"
     ]
    },
    {
     "name": "stdout",
     "output_type": "stream",
     "text": [
      "[[2, 18, 7], [47], [35, 0, 3, 33]]\n"
     ]
    },
    {
     "name": "stderr",
     "output_type": "stream",
     "text": [
      "100%|█████████████████████████████████████████████| 1/1 [00:01<00:00,  1.01s/it]\n",
      "100%|█████████████████████████████████████████████| 1/1 [00:00<00:00,  2.07it/s]\n",
      "100%|█████████████████████████████████████████████| 1/1 [00:01<00:00,  1.02s/it]\n",
      "100%|█████████████████████████████████████████████| 1/1 [00:00<00:00,  1.84it/s]\n",
      "100%|██████████████████████████████████████████| 1/1 [00:00<00:00, 17476.27it/s]\n",
      "100%|█████████████████████████████████████████████| 1/1 [00:00<00:00,  3.16it/s]\n",
      "100%|█████████████████████████████████████████████| 1/1 [00:00<00:00,  2.76it/s]\n",
      "100%|█████████████████████████████████████████████| 1/1 [00:00<00:00,  8.02it/s]\n",
      "100%|█████████████████████████████████████████████| 1/1 [00:00<00:00,  5.55it/s]\n",
      "100%|██████████████████████████████████████████| 1/1 [00:00<00:00, 19599.55it/s]\n",
      "100%|█████████████████████████████████████████████| 1/1 [00:00<00:00,  5.48it/s]\n",
      "100%|█████████████████████████████████████████████| 1/1 [00:00<00:00,  4.82it/s]\n",
      "100%|█████████████████████████████████████████████| 1/1 [00:00<00:00,  2.01it/s]\n",
      "100%|███████████████████████████████████████████| 10/10 [00:08<00:00,  1.12it/s]\n"
     ]
    },
    {
     "name": "stdout",
     "output_type": "stream",
     "text": [
      "shd = 1 fp = 1 fn = 0\n"
     ]
    },
    {
     "name": "stderr",
     "output_type": "stream",
     "text": [
      "100%|█████████████████████████████████████████████| 1/1 [00:00<00:00,  1.64it/s]\n",
      "100%|█████████████████████████████████████████████| 1/1 [00:00<00:00,  2.49it/s]\n",
      "100%|█████████████████████████████████████████████| 1/1 [00:00<00:00,  2.60it/s]\n",
      "100%|█████████████████████████████████████████████| 1/1 [00:00<00:00,  3.87it/s]\n",
      "100%|█████████████████████████████████████████████| 1/1 [00:00<00:00,  5.32it/s]\n",
      "100%|█████████████████████████████████████████████| 1/1 [00:00<00:00,  7.95it/s]\n",
      "100%|█████████████████████████████████████████████| 1/1 [00:00<00:00,  7.59it/s]\n",
      "100%|█████████████████████████████████████████████| 1/1 [00:00<00:00,  5.41it/s]\n",
      "100%|██████████████████████████████████████████| 1/1 [00:00<00:00, 14122.24it/s]\n",
      "100%|██████████████████████████████████████████| 1/1 [00:00<00:00, 23172.95it/s]\n"
     ]
    },
    {
     "name": "stdout",
     "output_type": "stream",
     "text": [
      "[[47, 32, 31], [44, 53, 6], [2, 58]]\n"
     ]
    },
    {
     "name": "stderr",
     "output_type": "stream",
     "text": [
      "100%|█████████████████████████████████████████████| 1/1 [00:00<00:00,  1.03it/s]\n",
      "100%|█████████████████████████████████████████████| 1/1 [00:00<00:00,  1.21it/s]\n",
      "100%|█████████████████████████████████████████████| 1/1 [00:00<00:00,  2.76it/s]\n",
      "100%|██████████████████████████████████████████| 1/1 [00:00<00:00, 22795.13it/s]\n",
      "100%|█████████████████████████████████████████████| 1/1 [00:00<00:00,  2.02it/s]\n",
      "100%|█████████████████████████████████████████████| 1/1 [00:00<00:00,  2.83it/s]\n",
      "100%|█████████████████████████████████████████████| 1/1 [00:00<00:00,  7.65it/s]\n",
      "100%|██████████████████████████████████████████| 1/1 [00:00<00:00, 18893.26it/s]\n",
      "100%|█████████████████████████████████████████████| 1/1 [00:00<00:00,  5.64it/s]\n",
      "100%|█████████████████████████████████████████████| 1/1 [00:00<00:00,  5.50it/s]\n",
      "100%|█████████████████████████████████████████████| 1/1 [00:00<00:00,  2.59it/s]\n",
      "100%|█████████████████████████████████████████████| 1/1 [00:00<00:00,  4.13it/s]\n",
      "100%|█████████████████████████████████████████████| 1/1 [00:00<00:00,  5.50it/s]\n",
      "100%|███████████████████████████████████████████| 10/10 [00:09<00:00,  1.08it/s]\n"
     ]
    },
    {
     "name": "stdout",
     "output_type": "stream",
     "text": [
      "shd = 1 fp = 1 fn = 0\n"
     ]
    },
    {
     "name": "stderr",
     "output_type": "stream",
     "text": [
      "100%|█████████████████████████████████████████████| 1/1 [00:00<00:00,  1.50it/s]\n",
      "100%|█████████████████████████████████████████████| 1/1 [00:00<00:00,  3.32it/s]\n",
      "100%|█████████████████████████████████████████████| 1/1 [00:00<00:00,  3.01it/s]\n",
      "100%|█████████████████████████████████████████████| 1/1 [00:00<00:00,  4.09it/s]\n",
      "100%|█████████████████████████████████████████████| 1/1 [00:00<00:00,  5.06it/s]\n",
      "100%|█████████████████████████████████████████████| 1/1 [00:00<00:00,  3.96it/s]\n",
      "100%|█████████████████████████████████████████████| 1/1 [00:00<00:00,  5.17it/s]\n",
      "100%|█████████████████████████████████████████████| 1/1 [00:00<00:00,  5.27it/s]\n",
      "100%|██████████████████████████████████████████| 1/1 [00:00<00:00, 22671.91it/s]\n",
      "100%|██████████████████████████████████████████| 1/1 [00:00<00:00, 23831.27it/s]\n"
     ]
    },
    {
     "name": "stdout",
     "output_type": "stream",
     "text": [
      "[[22, 30], [10, 21, 25], [33, 41], [44]]\n"
     ]
    },
    {
     "name": "stderr",
     "output_type": "stream",
     "text": [
      "100%|█████████████████████████████████████████████| 1/1 [00:01<00:00,  1.01s/it]\n",
      "100%|█████████████████████████████████████████████| 1/1 [00:00<00:00,  1.38it/s]\n",
      "100%|█████████████████████████████████████████████| 1/1 [00:00<00:00,  2.27it/s]\n",
      "100%|█████████████████████████████████████████████| 1/1 [00:00<00:00,  5.00it/s]\n",
      "100%|█████████████████████████████████████████████| 1/1 [00:00<00:00,  3.15it/s]\n",
      "100%|█████████████████████████████████████████████| 1/1 [00:00<00:00,  5.07it/s]\n",
      "100%|█████████████████████████████████████████████| 1/1 [00:00<00:00,  3.76it/s]\n",
      "100%|██████████████████████████████████████████| 1/1 [00:00<00:00, 18558.87it/s]\n",
      "100%|█████████████████████████████████████████████| 1/1 [00:00<00:00,  5.56it/s]\n",
      "100%|█████████████████████████████████████████████| 1/1 [00:00<00:00,  4.18it/s]\n",
      "100%|██████████████████████████████████████████| 1/1 [00:00<00:00, 18157.16it/s]\n",
      "100%|█████████████████████████████████████████████| 1/1 [00:00<00:00,  5.08it/s]\n",
      "100%|█████████████████████████████████████████████| 1/1 [00:00<00:00,  4.30it/s]\n",
      "100%|█████████████████████████████████████████████| 1/1 [00:00<00:00,  1.64it/s]\n",
      "100%|███████████████████████████████████████████| 10/10 [00:09<00:00,  1.10it/s]\n"
     ]
    },
    {
     "name": "stdout",
     "output_type": "stream",
     "text": [
      "shd = 2 fp = 2 fn = 0\n"
     ]
    },
    {
     "name": "stderr",
     "output_type": "stream",
     "text": [
      "100%|█████████████████████████████████████████████| 1/1 [00:00<00:00,  1.45it/s]\n",
      "100%|█████████████████████████████████████████████| 1/1 [00:00<00:00,  1.93it/s]\n",
      "100%|█████████████████████████████████████████████| 1/1 [00:00<00:00,  2.43it/s]\n",
      "100%|█████████████████████████████████████████████| 1/1 [00:00<00:00,  2.25it/s]\n",
      "100%|█████████████████████████████████████████████| 1/1 [00:00<00:00,  3.12it/s]\n",
      "100%|█████████████████████████████████████████████| 1/1 [00:00<00:00,  1.96it/s]\n",
      "100%|█████████████████████████████████████████████| 1/1 [00:00<00:00,  2.48it/s]\n",
      "100%|█████████████████████████████████████████████| 1/1 [00:00<00:00,  3.63it/s]\n",
      "100%|█████████████████████████████████████████████| 1/1 [00:00<00:00,  5.70it/s]\n",
      "100%|█████████████████████████████████████████████| 1/1 [00:00<00:00,  3.99it/s]\n"
     ]
    },
    {
     "name": "stdout",
     "output_type": "stream",
     "text": [
      "[[52, 38, 2], [17, 3], [22, 56], [28, 51], [34]]\n"
     ]
    },
    {
     "name": "stderr",
     "output_type": "stream",
     "text": [
      "100%|█████████████████████████████████████████████| 1/1 [00:01<00:00,  1.21s/it]\n",
      "100%|█████████████████████████████████████████████| 1/1 [00:00<00:00,  1.49it/s]\n",
      "100%|█████████████████████████████████████████████| 1/1 [00:00<00:00,  1.26it/s]\n",
      "100%|█████████████████████████████████████████████| 1/1 [00:00<00:00,  1.03it/s]\n",
      "100%|█████████████████████████████████████████████| 1/1 [00:00<00:00,  3.84it/s]\n",
      "100%|█████████████████████████████████████████████| 1/1 [00:00<00:00,  3.20it/s]\n",
      "100%|█████████████████████████████████████████████| 1/1 [00:00<00:00,  2.04it/s]\n",
      "100%|█████████████████████████████████████████████| 1/1 [00:00<00:00,  5.52it/s]\n",
      "100%|█████████████████████████████████████████████| 1/1 [00:00<00:00,  1.67it/s]\n",
      "100%|█████████████████████████████████████████████| 1/1 [00:00<00:00,  2.12it/s]\n",
      "100%|█████████████████████████████████████████████| 1/1 [00:00<00:00,  2.52it/s]\n",
      "100%|█████████████████████████████████████████████| 1/1 [00:00<00:00,  3.99it/s]\n",
      "100%|█████████████████████████████████████████████| 1/1 [00:00<00:00,  2.63it/s]\n",
      "100%|█████████████████████████████████████████████| 1/1 [00:00<00:00,  4.06it/s]\n",
      "100%|█████████████████████████████████████████████| 1/1 [00:00<00:00,  2.29it/s]\n",
      "100%|███████████████████████████████████████████| 10/10 [00:08<00:00,  1.11it/s]\n"
     ]
    },
    {
     "name": "stdout",
     "output_type": "stream",
     "text": [
      "shd = 2 fp = 2 fn = 0\n"
     ]
    },
    {
     "name": "stderr",
     "output_type": "stream",
     "text": [
      "100%|█████████████████████████████████████████████| 1/1 [00:00<00:00,  1.28it/s]\n",
      "100%|█████████████████████████████████████████████| 1/1 [00:00<00:00,  2.81it/s]\n",
      "100%|█████████████████████████████████████████████| 1/1 [00:00<00:00,  7.11it/s]\n",
      "100%|█████████████████████████████████████████████| 1/1 [00:00<00:00,  7.21it/s]\n",
      "100%|██████████████████████████████████████████| 1/1 [00:00<00:00, 22671.91it/s]\n",
      "100%|██████████████████████████████████████████| 1/1 [00:00<00:00, 10538.45it/s]\n",
      "100%|██████████████████████████████████████████| 1/1 [00:00<00:00, 17549.39it/s]\n",
      "100%|██████████████████████████████████████████| 1/1 [00:00<00:00, 21183.35it/s]\n",
      "100%|██████████████████████████████████████████| 1/1 [00:00<00:00, 21290.88it/s]\n",
      "100%|███████████████████████████████████████████| 1/1 [00:00<00:00, 9118.05it/s]\n"
     ]
    },
    {
     "name": "stdout",
     "output_type": "stream",
     "text": [
      "[[16, 21], [55, 34], [59]]\n"
     ]
    },
    {
     "name": "stderr",
     "output_type": "stream",
     "text": [
      "100%|█████████████████████████████████████████████| 1/1 [00:00<00:00,  1.38it/s]\n",
      "100%|█████████████████████████████████████████████| 1/1 [00:00<00:00,  2.16it/s]\n",
      "100%|██████████████████████████████████████████| 1/1 [00:00<00:00, 18477.11it/s]\n",
      "100%|██████████████████████████████████████████| 1/1 [00:00<00:00, 21290.88it/s]\n",
      "100%|██████████████████████████████████████████| 1/1 [00:00<00:00, 21620.12it/s]\n",
      "100%|██████████████████████████████████████████| 1/1 [00:00<00:00, 19239.93it/s]\n",
      "100%|██████████████████████████████████████████| 1/1 [00:00<00:00, 14768.68it/s]\n",
      "100%|█████████████████████████████████████████████| 1/1 [00:00<00:00,  1.63it/s]\n",
      "100%|██████████████████████████████████████████| 1/1 [00:00<00:00, 22192.08it/s]\n",
      "100%|█████████████████████████████████████████████| 1/1 [00:00<00:00,  7.81it/s]\n",
      "100%|█████████████████████████████████████████████| 1/1 [00:00<00:00,  7.40it/s]\n",
      "100%|█████████████████████████████████████████████| 1/1 [00:00<00:00,  3.00it/s]\n",
      "100%|██████████████████████████████████████████| 1/1 [00:00<00:00, 17189.77it/s]\n"
     ]
    }
   ],
   "source": [
    "# learn the null graph\n",
    "for i in range(n_networks):\n",
    "    res['by_degree']['SHD'][i] = []\n",
    "    res['by_degree']['fn'][i] = []\n",
    "    res['by_degree']['fp'][i] = []\n",
    "    \n",
    "    res['multi_by_degree']['SHD'][i] = []\n",
    "    res['multi_by_degree']['fn'][i] = []\n",
    "    res['multi_by_degree']['fp'][i] = []\n",
    "    \n",
    "    res['random']['SHD'][i] = []\n",
    "    res['random']['fn'][i] = []\n",
    "    res['random']['fp'][i] = []\n",
    "\n",
    "    network = network_data[i]\n",
    "    index_obs = np.sort(np.random.choice(n_obs+n_hidden, size = n_obs, replace = False))\n",
    "\n",
    "    spike_data = dict()\n",
    "    spikes = neuron_model.simulate(network, n_steps=n_timesteps, verbose=False)\n",
    "    spike_data['null'] = spikes[index_obs]\n",
    "\n",
    "    G = to_networkx(network)   \n",
    "    G_true = nx.subgraph(G, index_obs)\n",
    "    G_learned_null = observational_learner_Poisson(\n",
    "        spike_data, \n",
    "        node_list=index_obs, \n",
    "        alpha = 1e-2)\n",
    "\n",
    "    tp=count_true_positive(G_learned=G_learned_null, G_true=G_true, nodelist=index_obs)\n",
    "    fp=count_false_positive(G_learned=G_learned_null, G_true=G_true, nodelist=index_obs)\n",
    "    fn=count_false_negative(G_learned=G_learned_null, G_true=G_true, nodelist=index_obs)\n",
    "\n",
    "    shd=compute_SHD(G_learned=G_learned_null,G_true=G_true)\n",
    "    fp=count_false_positive(G_learned=G_learned_null,G_true=G_true, nodelist=index_obs)\n",
    "    fn=count_false_negative(G_learned=G_learned_null,G_true=G_true, nodelist=index_obs)\n",
    "\n",
    "    print('shd =',shd, 'fp =',fp, 'fn =',fn)\n",
    "    \n",
    "    res['by_degree']['SHD'][i].append(shd)\n",
    "    res['by_degree']['fn'][i].append(fn)   \n",
    "    res['by_degree']['fp'][i].append(fp)\n",
    "    \n",
    "    res['multi_by_degree']['SHD'][i].append(shd)\n",
    "    res['multi_by_degree']['fn'][i].append(fn)   \n",
    "    res['multi_by_degree']['fp'][i].append(fp)\n",
    "    \n",
    "    res['random']['SHD'][i].append(shd)\n",
    "    res['random']['fn'][i].append(fn)   \n",
    "    res['random']['fp'][i].append(fp)\n",
    "    \n",
    "    G_learned = G_learned_null.copy()\n",
    "    \n",
    "    # now learn from interventional data\n",
    "    # degree protocol\n",
    "    singleton_intervention_sets = single_intervetions_by_degree(G_learned_null)\n",
    "\n",
    "    for intervention_set in singleton_intervention_sets:\n",
    "        stimulus_mask = torch.zeros(n_obs+n_hidden, dtype=torch.bool)\n",
    "        stimulus_mask[intervention_set] = True\n",
    "        neuron_model.add_stimulus(lambda t: 3.5*(t % 200 < 100)*stimulus_mask)#\n",
    "        spikes = neuron_model.simulate(network, n_steps=n_timesteps, verbose=False)          \n",
    "\n",
    "        intervention_node = intervention_set[0] #singleton intervention\n",
    "        spike_data[str(intervention_node)] = spikes[index_obs]\n",
    "\n",
    "        G_learned = interventional_learner_Poisson(\n",
    "            spike_data,\n",
    "            node_list=index_obs, \n",
    "            stimulation_protocol=[intervention_set],\n",
    "            SCM_learned=G_learned,\n",
    "            alpha = 1e-5)\n",
    "\n",
    "        shd=compute_SHD(G_learned=G_learned,G_true=G_true)\n",
    "        fp=count_false_positive(G_learned=G_learned,G_true=G_true, nodelist=index_obs)\n",
    "        fn=count_false_negative(G_learned=G_learned,G_true=G_true, nodelist=index_obs)\n",
    "        res['by_degree']['SHD'][i].append(shd)\n",
    "        res['by_degree']['fn'][i].append(fn)   \n",
    "        res['by_degree']['fp'][i].append(fp)\n",
    "\n",
    "    G_learned = G_learned_null.copy()\n",
    "    \n",
    "    # now learn from interventional data\n",
    "    # degree protocol\n",
    "    multiple_intervention_sets = multiple_interventions_by_degree(G_learned_null)\n",
    "    print(multiple_intervention_sets)\n",
    "    \n",
    "    for intervention_set in multiple_intervention_sets:\n",
    "        stimulus_mask = torch.zeros(n_obs+n_hidden, dtype=torch.bool)\n",
    "        stimulus_mask[intervention_set] = True\n",
    "        neuron_model.add_stimulus(lambda t: 3.5*(t % 200 < 100)*stimulus_mask)#\n",
    "        spikes = neuron_model.simulate(network, n_steps=n_timesteps, verbose=False)          \n",
    "        intervention_str = '_'.join(str(x) for x in intervention_set)\n",
    "        spike_data[intervention_str] = spikes[index_obs]\n",
    "\n",
    "        G_learned = interventional_learner_Poisson(\n",
    "            spike_data,\n",
    "            node_list=index_obs, \n",
    "            stimulation_protocol=[intervention_set],\n",
    "            SCM_learned=G_learned,\n",
    "            alpha = 1e-5)\n",
    "\n",
    "        shd=compute_SHD(G_learned=G_learned,G_true=G_true)\n",
    "        fp=count_false_positive(G_learned=G_learned,G_true=G_true, nodelist=index_obs)\n",
    "        fn=count_false_negative(G_learned=G_learned,G_true=G_true, nodelist=index_obs)\n",
    "        res['multi_by_degree']['SHD'][i].append(shd)\n",
    "        res['multi_by_degree']['fn'][i].append(fn)   \n",
    "        res['multi_by_degree']['fp'][i].append(fp)\n",
    "    \n",
    "    # random selection\n",
    "    G_learned = G_learned_null.copy()\n",
    "    \n",
    "    # degree protocol\n",
    "    random_selection = np.random.choice(index_obs, size = n_obs, replace = False)\n",
    "    random_intervention_sets = [[j] for j in random_selection]\n",
    "\n",
    "    for intervention_set in random_intervention_sets:\n",
    "        stimulus_mask = torch.zeros(n_obs+n_hidden, dtype=torch.bool)\n",
    "        stimulus_mask[intervention_set] = True\n",
    "        neuron_model.add_stimulus(lambda t: 3.5*(t % 200 < 100)*stimulus_mask)#\n",
    "        spikes = neuron_model.simulate(network, n_steps=n_timesteps, verbose=False)          \n",
    "\n",
    "        intervention_node = intervention_set[0] #singleton intervention\n",
    "        spike_data[str(intervention_node)] = spikes[index_obs]\n",
    "\n",
    "        G_learned = interventional_learner_Poisson(\n",
    "            spike_data,\n",
    "            node_list=index_obs, \n",
    "            stimulation_protocol=[intervention_set],\n",
    "            SCM_learned=G_learned,\n",
    "            alpha = 1e-5)\n",
    "\n",
    "        shd=compute_SHD(G_learned=G_learned,G_true=G_true)\n",
    "        fp=count_false_positive(G_learned=G_learned,G_true=G_true, nodelist=index_obs)\n",
    "        fn=count_false_negative(G_learned=G_learned,G_true=G_true, nodelist=index_obs)\n",
    "        res['random']['SHD'][i].append(shd)\n",
    "        res['random']['fn'][i].append(fn)   \n",
    "        res['random']['fp'][i].append(fp)"
   ]
  },
  {
   "cell_type": "code",
   "execution_count": 24,
   "id": "70d42b1a-6abb-414a-bcd1-58d6cb29e978",
   "metadata": {
    "tags": []
   },
   "outputs": [],
   "source": [
    "for i in range(n_networks):\n",
    "    while len(res['multi_by_degree']['SHD'][i])<n_obs+1:\n",
    "        res['multi_by_degree']['SHD'][i].append(0)"
   ]
  },
  {
   "cell_type": "code",
   "execution_count": 27,
   "id": "056439be-4308-46df-8267-57eb8705a4eb",
   "metadata": {
    "tags": []
   },
   "outputs": [
    {
     "data": {
      "text/plain": [
       "0     1.8\n",
       "1     1.0\n",
       "2     0.5\n",
       "3     0.2\n",
       "4     0.1\n",
       "5     0.1\n",
       "6     0.0\n",
       "7     0.0\n",
       "8     0.0\n",
       "9     0.0\n",
       "10    0.0\n",
       "dtype: float64"
      ]
     },
     "execution_count": 27,
     "metadata": {},
     "output_type": "execute_result"
    }
   ],
   "source": [
    "pd.DataFrame(res['multi_by_degree']['SHD']).fillna(0).mean(axis=1)"
   ]
  },
  {
   "cell_type": "code",
   "execution_count": 29,
   "id": "478e1b05-daa5-4572-bc2a-82d340462767",
   "metadata": {
    "tags": []
   },
   "outputs": [
    {
     "data": {
      "image/png": "[encoded data removed]",
      "text/plain": [
       "<Figure size 472.441x393.701 with 1 Axes>"
      ]
     },
     "metadata": {},
     "output_type": "display_data"
    }
   ],
   "source": [
    "sns.set_theme(palette=\"colorblind\",style=\"ticks\",context='notebook')\n",
    "\n",
    "cm=1/2.54\n",
    "params = {\n",
    "    'legend.fontsize': 12,\n",
    "    'font.size': 12,\n",
    "    'figure.figsize': (20*cm,10.0*cm), # figsize for two-column latex doc\n",
    "    'axes.labelsize': 12,\n",
    "    'axes.titlesize': 12,\n",
    "    'xtick.labelsize': 12,\n",
    "    'ytick.labelsize': 12,\n",
    "    'lines.markersize': 3.0,\n",
    "    'lines.linewidth': 1.5,\n",
    "    }\n",
    "\n",
    "plt.rcParams.update(params)\n",
    "\n",
    "shd_multi_degree_mean = pd.DataFrame(res['multi_by_degree']['SHD']).fillna(0).mean(axis=1)\n",
    "shd_multi_degree_std = pd.DataFrame(res['multi_by_degree']['SHD']).fillna(0).std(axis=1)\n",
    "\n",
    "shd_degree_mean = pd.DataFrame(res['by_degree']['SHD']).mean(axis=1)\n",
    "shd_degree_std = pd.DataFrame(res['by_degree']['SHD']).std(axis=1)\n",
    "\n",
    "shd_random_mean = pd.DataFrame(res['random']['SHD']).mean(axis=1)\n",
    "shd_random_std = pd.DataFrame(res['random']['SHD']).std(axis=1)\n",
    "\n",
    "plt.figure(figsize=(12*cm,10*cm))\n",
    "#plt.plot(shd_degree_mean, label='by out-degree')\n",
    "plt.hlines(y=0,xmin=0,xmax=n_obs,linestyle=':',color='k')\n",
    "\n",
    "plt.errorbar(x=np.arange(n_obs+1), y=shd_random_mean, yerr=shd_random_std, \n",
    "             fmt='o-', capsize=2, markerfacecolor='white', markersize=5, label='random')\n",
    "plt.errorbar(x=np.arange(n_obs+1), y=shd_degree_mean, yerr=shd_degree_std, \n",
    "             fmt='o-', capsize=2, markerfacecolor='white', markersize=5, label='by degree')\n",
    "plt.errorbar(x=np.arange(n_obs+1), y=shd_multi_degree_mean, yerr=shd_multi_degree_std, \n",
    "             fmt='o-', capsize=2, markerfacecolor='white', markersize=5, label='multiple by degree')\n",
    "plt.xlabel('number of interventions')\n",
    "plt.ylabel('SHD')\n",
    "plt.legend()\n",
    "plt.tight_layout()\n",
    "plt.savefig('../figures/shd_by_int.pdf')"
   ]
  },
  {
   "cell_type": "code",
   "execution_count": 18,
   "id": "ecf3319c-efe7-4ff0-a0ed-c3dcbd01d9ab",
   "metadata": {
    "tags": []
   },
   "outputs": [
    {
     "data": {
      "image/png": "[encoded data removed]",
      "text/plain": [
       "<Figure size 787.402x393.701 with 1 Axes>"
      ]
     },
     "metadata": {},
     "output_type": "display_data"
    }
   ],
   "source": [
    "for i in range(n_networks):\n",
    "    plt.plot(res['random']['SHD'][i],'o--')\n",
    "plt.show()"
   ]
  },
  {
   "cell_type": "markdown",
   "id": "fa6228a1-4da4-4506-9f3c-af48f0a7d0fb",
   "metadata": {},
   "source": [
    "### Done"
   ]
  },
  {
   "cell_type": "code",
   "execution_count": null,
   "id": "243a659a-4b2d-4a71-bc29-f80fad91ec34",
   "metadata": {},
   "outputs": [],
   "source": []
  }
 ],
 "metadata": {
  "kernelspec": {
   "display_name": "spikeenv",
   "language": "python",
   "name": "spikeenv"
  },
  "language_info": {
   "codemirror_mode": {
    "name": "ipython",
    "version": 3
   },
   "file_extension": ".py",
   "mimetype": "text/x-python",
   "name": "python",
   "nbconvert_exporter": "python",
   "pygments_lexer": "ipython3",
   "version": "3.11.6"
  }
 },
 "nbformat": 4,
 "nbformat_minor": 5
}
