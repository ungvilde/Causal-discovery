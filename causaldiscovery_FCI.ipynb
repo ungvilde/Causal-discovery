{
 "cells": [
  {
   "cell_type": "code",
   "execution_count": 1,
   "id": "3b765ec2-e816-4157-ab4e-ea0440e66aeb",
   "metadata": {
    "tags": []
   },
   "outputs": [
    {
     "ename": "ModuleNotFoundError",
     "evalue": "No module named 'edu'",
     "output_type": "error",
     "traceback": [
      "\u001b[0;31m---------------------------------------------------------------------------\u001b[0m",
      "\u001b[0;31mModuleNotFoundError\u001b[0m                       Traceback (most recent call last)",
      "Cell \u001b[0;32mIn[1], line 12\u001b[0m\n\u001b[1;32m      9\u001b[0m \u001b[38;5;28;01mfrom\u001b[39;00m \u001b[38;5;21;01mtorch_geometric\u001b[39;00m\u001b[38;5;21;01m.\u001b[39;00m\u001b[38;5;21;01mdata\u001b[39;00m \u001b[38;5;28;01mimport\u001b[39;00m Data\n\u001b[1;32m     10\u001b[0m \u001b[38;5;28;01mfrom\u001b[39;00m \u001b[38;5;21;01mtorch_geometric\u001b[39;00m\u001b[38;5;21;01m.\u001b[39;00m\u001b[38;5;21;01mutils\u001b[39;00m \u001b[38;5;28;01mimport\u001b[39;00m to_dense_adj, to_networkx, from_networkx\n\u001b[0;32m---> 12\u001b[0m \u001b[38;5;28;01mfrom\u001b[39;00m \u001b[38;5;21;01mfunctions\u001b[39;00m \u001b[38;5;28;01mimport\u001b[39;00m \u001b[38;5;241m*\u001b[39m\n",
      "File \u001b[0;32m~/Documents/Masteroppgave/code/causal_discovery/causal_discovery/functions.py:101\u001b[0m\n\u001b[1;32m     96\u001b[0m                     G_fulltime\u001b[38;5;241m.\u001b[39madd_edge(node_idx \u001b[38;5;241m+\u001b[39m current_time, target_idx \u001b[38;5;241m+\u001b[39m effect_time) \u001b[38;5;66;03m# these are causal interactions  \u001b[39;00m\n\u001b[1;32m     98\u001b[0m     \u001b[38;5;28;01mreturn\u001b[39;00m G_fulltime, pos, time_label\n\u001b[0;32m--> 101\u001b[0m \u001b[38;5;28;01mimport\u001b[39;00m \u001b[38;5;21;01medu\u001b[39;00m\u001b[38;5;21;01m.\u001b[39;00m\u001b[38;5;21;01mcmu\u001b[39;00m\u001b[38;5;21;01m.\u001b[39;00m\u001b[38;5;21;01mtetrad\u001b[39;00m\u001b[38;5;21;01m.\u001b[39;00m\u001b[38;5;21;01mgraph\u001b[39;00m \u001b[38;5;28;01mas\u001b[39;00m \u001b[38;5;21;01mtg\u001b[39;00m\n\u001b[1;32m    102\u001b[0m \u001b[38;5;28;01mimport\u001b[39;00m \u001b[38;5;21;01medu\u001b[39;00m\u001b[38;5;21;01m.\u001b[39;00m\u001b[38;5;21;01mcmu\u001b[39;00m\u001b[38;5;21;01m.\u001b[39;00m\u001b[38;5;21;01mtetrad\u001b[39;00m\u001b[38;5;21;01m.\u001b[39;00m\u001b[38;5;21;01msearch\u001b[39;00m \u001b[38;5;28;01mas\u001b[39;00m \u001b[38;5;21;01mts\u001b[39;00m\n\u001b[1;32m    103\u001b[0m \u001b[38;5;28;01mimport\u001b[39;00m \u001b[38;5;21;01medu\u001b[39;00m\u001b[38;5;21;01m.\u001b[39;00m\u001b[38;5;21;01mcmu\u001b[39;00m\u001b[38;5;21;01m.\u001b[39;00m\u001b[38;5;21;01mtetrad\u001b[39;00m\u001b[38;5;21;01m.\u001b[39;00m\u001b[38;5;21;01mdata\u001b[39;00m \u001b[38;5;28;01mas\u001b[39;00m \u001b[38;5;21;01mtd\u001b[39;00m\n",
      "\u001b[0;31mModuleNotFoundError\u001b[0m: No module named 'edu'"
     ]
    }
   ],
   "source": [
    "import torch\n",
    "import matplotlib.pyplot as plt\n",
    "import numpy as np \n",
    "import networkx as nx\n",
    "import seaborn as sns\n",
    "\n",
    "from spikeometric.models import BernoulliGLM\n",
    "\n",
    "from torch_geometric.data import Data\n",
    "from torch_geometric.utils import to_dense_adj, to_networkx, from_networkx\n",
    "\n",
    "from functions import *"
   ]
  },
  {
   "cell_type": "code",
   "execution_count": null,
   "id": "f49272fd-7bc6-4958-bd33-58b323169bfa",
   "metadata": {
    "tags": []
   },
   "outputs": [],
   "source": [
    "from causallearn.search.ConstraintBased.FCI import fci\n",
    "from causallearn.utils.cit import d_separation, CIT\n",
    "from causallearn.utils.DAG2PAG import dag2pag\n",
    "from causallearn.graph.GraphNode import GraphNode\n",
    "from causallearn.graph.Dag import Dag\n",
    "from causallearn.utils.PCUtils.BackgroundKnowledge import BackgroundKnowledge\n",
    "from causallearn.utils.GraphUtils import GraphUtils"
   ]
  },
  {
   "cell_type": "code",
   "execution_count": 31,
   "id": "75aa6c48",
   "metadata": {},
   "outputs": [
    {
     "data": {
      "application/vnd.jupyter.widget-view+json": {
       "model_id": "c9abf56808724fcfbdb680ea24f02893",
       "version_major": 2,
       "version_minor": 0
      },
      "text/plain": [
       "  0%|          | 0/6 [00:00<?, ?it/s]"
      ]
     },
     "metadata": {},
     "output_type": "display_data"
    },
    {
     "data": {
      "application/vnd.jupyter.widget-view+json": {
       "model_id": "5810804fa9504e61a89a02e7996bc426",
       "version_major": 2,
       "version_minor": 0
      },
      "text/plain": [
       "  0%|          | 0/6 [00:00<?, ?it/s]"
      ]
     },
     "metadata": {},
     "output_type": "display_data"
    },
    {
     "name": "stdout",
     "output_type": "stream",
     "text": [
      "Starting BK Orientation.\n",
      "Orienting edge (Knowledge): X1 --> X2\n",
      "Orienting edge (Knowledge): X3 --> X2\n",
      "Orienting edge (Knowledge): X3 --> X4\n",
      "Orienting edge (Knowledge): X3 --> X6\n",
      "Orienting edge (Knowledge): X5 --> X6\n",
      "Finishing BK Orientation.\n",
      "Starting BK Orientation.\n",
      "Orienting edge (Knowledge): X1 --> X2\n",
      "Orienting edge (Knowledge): X3 --> X2\n",
      "Orienting edge (Knowledge): X3 --> X4\n",
      "Orienting edge (Knowledge): X3 --> X6\n",
      "Orienting edge (Knowledge): X5 --> X6\n",
      "Finishing BK Orientation.\n",
      "Graph Nodes:\n",
      "X1;X2;X3;X4;X5;X6\n",
      "\n",
      "Graph Edges:\n",
      "1. X1 --> X2\n",
      "2. X3 --> X2\n",
      "3. X3 --> X4\n",
      "4. X3 --> X6\n",
      "5. X5 --> X6\n",
      "\n"
     ]
    }
   ],
   "source": [
    "G = nx.DiGraph()\n",
    "G.add_nodes_from(np.arange(6))\n",
    "G.add_edges_from([(0, 1), (2, 3), (4, 5), (2, 1), (2, 5)])\n",
    "\n",
    "pag, _ = fci(np.empty(shape=(10**2, 6)), \n",
    "            d_separation, \n",
    "            true_dag=G,\n",
    "            )\n",
    "nodes = pag.get_nodes()\n",
    "\n",
    "kn = BackgroundKnowledge()\n",
    "kn.add_node_to_tier(nodes[0], 0)\n",
    "kn.add_node_to_tier(nodes[2], 0)\n",
    "kn.add_node_to_tier(nodes[4], 0)\n",
    "\n",
    "kn.add_node_to_tier(nodes[1], 1)\n",
    "kn.add_node_to_tier(nodes[3], 1)\n",
    "kn.add_node_to_tier(nodes[5], 1)\n",
    "\n",
    "#kn.add_required_by_node(nodes[0], nodes[1])\n",
    "#kn.add_required_by_node(nodes[2], nodes[3])\n",
    "#kn.add_required_by_node(nodes[4], nodes[5])\n",
    "\n",
    "pag, _ = fci(np.empty(shape=(10**2, 6)), \n",
    "            d_separation, \n",
    "            true_dag=G,\n",
    "            background_knowledge=kn,\n",
    "            )\n",
    "print(pag)"
   ]
  },
  {
   "cell_type": "markdown",
   "id": "f6968b9c-81ab-4693-a56d-e04d238fc38b",
   "metadata": {},
   "source": [
    "### C elegans"
   ]
  },
  {
   "cell_type": "code",
   "execution_count": 3,
   "id": "0c5b5edc-4ba3-4074-a967-0a5ec5add0e3",
   "metadata": {
    "tags": []
   },
   "outputs": [],
   "source": [
    "c_elegans_network = torch.load('data/c_elegans_data.pt')"
   ]
  },
  {
   "cell_type": "code",
   "execution_count": 4,
   "id": "82350ffb-381d-4086-8100-30cf371ab3e4",
   "metadata": {
    "tags": []
   },
   "outputs": [],
   "source": [
    "G_summary = to_networkx(c_elegans_network, node_attrs = ['position'])\n",
    "n_neurons = G_summary.number_of_nodes()\n",
    "\n",
    "position_dict = nx.get_node_attributes(G_summary, 'position')\n",
    "sample_space = []\n",
    "upper = 0.2 # head\n",
    "lower = 0.\n",
    "for neuron in position_dict:\n",
    "    if position_dict[neuron] >= lower and position_dict[neuron] < upper:\n",
    "        sample_space.append(neuron)\n",
    "        \n",
    "n_obs = 2\n",
    "index_obs = np.sort(np.random.choice(sample_space, size = n_obs, replace = False))\n",
    "index_obs = [202, 141, 75, 111, 250, 116, 275, 16, 36, 263, 39, 13, 272]\n",
    "index_obs = np.sort([202, 141, 250])\n",
    "#index_obs=np.sort([202, 250, 116])\n",
    "G_summary_observed = nx.subgraph(G_summary, index_obs)"
   ]
  },
  {
   "cell_type": "code",
   "execution_count": 16,
   "id": "4a82edff-9b03-4f60-8862-5d24c142ac1b",
   "metadata": {
    "tags": []
   },
   "outputs": [],
   "source": [
    "G_summary_observed = nx.DiGraph()\n",
    "G_summary_observed.add_nodes_from(np.arange(3))\n",
    "G_summary_observed.add_edges_from([(1, 0), (1, 2)])\n",
    "n_timelags = 1\n",
    "num_nodes = G_summary_observed.number_of_nodes()\n",
    "G_fulltime, pos, with_time_label = create_fulltime_graph(G_summary_observed, n_timelags=n_timelags)"
   ]
  },
  {
   "cell_type": "code",
   "execution_count": 17,
   "id": "c987884b-5af6-44cd-ae94-641f88e95601",
   "metadata": {
    "tags": []
   },
   "outputs": [
    {
     "data": {
      "image/png": "[encoded data removed]",
      "text/plain": [
       "<Figure size 1000x300 with 2 Axes>"
      ]
     },
     "metadata": {},
     "output_type": "display_data"
    }
   ],
   "source": [
    "# visualisation of one of the networks generated\n",
    "fig, ax = plt.subplots(1, 2, figsize=(10, 3))\n",
    "nx.draw_circular(G_summary_observed, arrows=True, ax=ax[0], with_labels=True, node_size=400, alpha=1)\n",
    "ax[0].set_title(\"Summary graph\")\n",
    "nx.draw_networkx(G_fulltime, pos=pos, labels=with_time_label, node_size=400, node_color='grey',ax=ax[1])\n",
    "ax[1].set_title(\"Full time graph\")\n",
    "plt.tight_layout()\n",
    "plt.show()"
   ]
  },
  {
   "cell_type": "code",
   "execution_count": 23,
   "id": "cfd69573",
   "metadata": {},
   "outputs": [
    {
     "data": {
      "application/vnd.jupyter.widget-view+json": {
       "model_id": "71759c0fc9e14d91a07979e15736e5d6",
       "version_major": 2,
       "version_minor": 0
      },
      "text/plain": [
       "  0%|          | 0/6 [00:00<?, ?it/s]"
      ]
     },
     "metadata": {},
     "output_type": "display_data"
    },
    {
     "name": "stdout",
     "output_type": "stream",
     "text": [
      "Starting BK Orientation.\n",
      "Orienting edge (Knowledge): X1 --> X2\n",
      "Orienting edge (Knowledge): X3 --> X2\n",
      "Orienting edge (Knowledge): X3 --> X4\n",
      "Orienting edge (Knowledge): X3 --> X6\n",
      "Orienting edge (Knowledge): X5 --> X6\n",
      "Finishing BK Orientation.\n",
      "Starting BK Orientation.\n",
      "Orienting edge (Knowledge): X1 --> X2\n",
      "Orienting edge (Knowledge): X3 --> X2\n",
      "Orienting edge (Knowledge): X3 --> X4\n",
      "Orienting edge (Knowledge): X3 --> X6\n",
      "Orienting edge (Knowledge): X5 --> X6\n",
      "Finishing BK Orientation.\n",
      "Graph Nodes:\n",
      "X1;X2;X3;X4;X5;X6\n",
      "\n",
      "Graph Edges:\n",
      "1. X1 --> X2\n",
      "2. X3 --> X2\n",
      "3. X3 --> X4\n",
      "4. X3 --> X6\n",
      "5. X5 --> X6\n",
      "\n"
     ]
    }
   ],
   "source": []
  },
  {
   "cell_type": "code",
   "execution_count": 22,
   "id": "eabb0c41-8fb8-4341-a4a8-c0ab893009d0",
   "metadata": {
    "tags": []
   },
   "outputs": [
    {
     "name": "stdout",
     "output_type": "stream",
     "text": [
      "tensor([[1, 1],\n",
      "        [0, 2]])\n"
     ]
    }
   ],
   "source": [
    "# set up the neuron model\n",
    "neuron_model = BernoulliGLM(\n",
    "    theta=3.,\n",
    "    dt=1.,\n",
    "    coupling_window=2,\n",
    "    abs_ref_scale=1,\n",
    "    abs_ref_strength=-100,\n",
    "    rel_ref_scale=0,\n",
    "    rel_ref_strength=-30,\n",
    "    alpha=0.5,\n",
    "    beta=0,\n",
    "    r = 1\n",
    ")\n",
    "\n",
    "sim_time = 10**5\n",
    "#spikes = neuron_model.simulate(c_elegans_network, n_steps=sim_time)\n",
    "\n",
    "network = from_networkx(G_summary_observed)\n",
    "num_edges = G_summary_observed.number_of_edges()\n",
    "network.W0 = torch.ones(G_summary_observed.number_of_edges())\n",
    "network.W0[:num_edges//2] = 1.5\n",
    "network.W0[num_edges//2:] = 1.5\n",
    "print(network.edge_index)"
   ]
  },
  {
   "cell_type": "code",
   "execution_count": 8,
   "id": "92ce1611-ed0a-40e7-bf1e-df5e5db05d98",
   "metadata": {
    "tags": []
   },
   "outputs": [
    {
     "name": "stderr",
     "output_type": "stream",
     "text": [
      "100%|\u001b[38;2;62;86;65m████████████████████████████████\u001b[0m| 100000/100000 [00:05<00:00, 17634.96it/s]\u001b[0m\n"
     ]
    }
   ],
   "source": [
    "spikes = neuron_model.simulate(network, n_steps=sim_time)"
   ]
  },
  {
   "cell_type": "code",
   "execution_count": 9,
   "id": "342adc0c-ab18-4e50-8baf-44ea671fd8e6",
   "metadata": {
    "tags": []
   },
   "outputs": [
    {
     "data": {
      "image/png": "[encoded data removed]",
      "text/plain": [
       "<Figure size 640x480 with 1 Axes>"
      ]
     },
     "metadata": {},
     "output_type": "display_data"
    }
   ],
   "source": [
    "make_rasterplot(spikes)"
   ]
  },
  {
   "cell_type": "code",
   "execution_count": 10,
   "id": "2e250dd1-8caf-45d1-a306-f35c3af0f4b0",
   "metadata": {
    "tags": []
   },
   "outputs": [],
   "source": [
    "fulltimegraph_data = np.empty((G_fulltime.number_of_nodes(), sim_time))\n",
    "for i, node_name in enumerate(G_summary_observed.nodes()):\n",
    "    node_idx = i*(n_timelags+1)\n",
    "    for current_time in range(n_timelags+1):\n",
    "        #print(f'{node_idx+current_time}: X{i}{current_time}')\n",
    "        fulltimegraph_data[node_idx + current_time] = np.roll(spikes[i], -current_time)"
   ]
  },
  {
   "cell_type": "code",
   "execution_count": 11,
   "id": "00055059-c142-4819-96c2-af78658cfaab",
   "metadata": {
    "tags": []
   },
   "outputs": [],
   "source": [
    "#fulltimegraph_data[[0,1,2,6,7,8]].shape"
   ]
  },
  {
   "cell_type": "code",
   "execution_count": 12,
   "id": "233ea8fd-a114-4fd5-852f-6c21fa0e6767",
   "metadata": {
    "tags": []
   },
   "outputs": [
    {
     "data": {
      "application/vnd.jupyter.widget-view+json": {
       "model_id": "28f719bd4eda46f9aa6dec06c30c8946",
       "version_major": 2,
       "version_minor": 0
      },
      "text/plain": [
       "  0%|          | 0/9 [00:00<?, ?it/s]"
      ]
     },
     "metadata": {},
     "output_type": "display_data"
    },
    {
     "name": "stdout",
     "output_type": "stream",
     "text": [
      "X1 --> X2\n",
      "X8 --> X1\n",
      "X2 --> X3\n",
      "X9 --> X8\n"
     ]
    },
    {
     "data": {
      "application/vnd.jupyter.widget-view+json": {
       "model_id": "54227084f2094a49954d3830517abca8",
       "version_major": 2,
       "version_minor": 0
      },
      "text/plain": [
       "  0%|          | 0/9 [00:00<?, ?it/s]"
      ]
     },
     "metadata": {},
     "output_type": "display_data"
    },
    {
     "name": "stdout",
     "output_type": "stream",
     "text": [
      "Starting BK Orientation.\n",
      "Orienting edge (Knowledge): X1 --> X2\n",
      "Orienting edge (Knowledge): X1 --> X3\n",
      "Orienting edge (Knowledge): X1 --> X5\n",
      "Orienting edge (Knowledge): X1 --> X6\n",
      "Orienting edge (Knowledge): X1 --> X8\n",
      "Orienting edge (Knowledge): X1 --> X9\n",
      "Orienting edge (Knowledge): X2 --> X3\n",
      "Orienting edge (Knowledge): X2 --> X6\n",
      "Orienting edge (Knowledge): X2 --> X9\n",
      "Orienting edge (Knowledge): X4 --> X5\n",
      "Orienting edge (Knowledge): X4 --> X6\n",
      "Orienting edge (Knowledge): X5 --> X6\n",
      "Orienting edge (Knowledge): X7 --> X8\n",
      "Orienting edge (Knowledge): X7 --> X9\n",
      "Orienting edge (Knowledge): X8 --> X9\n",
      "Finishing BK Orientation.\n",
      "Starting BK Orientation.\n",
      "Orienting edge (Knowledge): X1 --> X2\n",
      "Orienting edge (Knowledge): X1 --> X3\n",
      "Orienting edge (Knowledge): X1 --> X5\n",
      "Orienting edge (Knowledge): X1 --> X6\n",
      "Orienting edge (Knowledge): X1 --> X8\n",
      "Orienting edge (Knowledge): X1 --> X9\n",
      "Orienting edge (Knowledge): X2 --> X3\n",
      "Orienting edge (Knowledge): X2 --> X6\n",
      "Orienting edge (Knowledge): X2 --> X9\n",
      "Orienting edge (Knowledge): X4 --> X5\n",
      "Orienting edge (Knowledge): X4 --> X6\n",
      "Orienting edge (Knowledge): X5 --> X6\n",
      "Orienting edge (Knowledge): X7 --> X8\n",
      "Orienting edge (Knowledge): X7 --> X9\n",
      "Orienting edge (Knowledge): X8 --> X9\n",
      "Finishing BK Orientation.\n",
      "X2 --> X3\n",
      "X2 --> X6\n",
      "X2 --> X9\n",
      "X5 --> X6\n",
      "X8 --> X9\n"
     ]
    },
    {
     "data": {
      "application/vnd.jupyter.widget-view+json": {
       "model_id": "a94ba0412aa94eec9951f41ea65a99fc",
       "version_major": 2,
       "version_minor": 0
      },
      "text/plain": [
       "  0%|          | 0/9 [00:00<?, ?it/s]"
      ]
     },
     "metadata": {},
     "output_type": "display_data"
    },
    {
     "name": "stdout",
     "output_type": "stream",
     "text": [
      "Starting BK Orientation.\n",
      "Orienting edge (Knowledge): X1 --> X2\n",
      "Orienting edge (Knowledge): X1 --> X5\n",
      "Orienting edge (Knowledge): X1 --> X6\n",
      "Orienting edge (Knowledge): X1 --> X8\n",
      "Orienting edge (Knowledge): X1 --> X9\n",
      "Orienting edge (Knowledge): X2 --> X3\n",
      "Orienting edge (Knowledge): X2 --> X6\n",
      "Orienting edge (Knowledge): X2 --> X9\n",
      "Orienting edge (Knowledge): X4 --> X5\n",
      "Orienting edge (Knowledge): X5 --> X6\n",
      "Orienting edge (Knowledge): X7 --> X8\n",
      "Orienting edge (Knowledge): X8 --> X9\n",
      "Finishing BK Orientation.\n",
      "Starting BK Orientation.\n",
      "Orienting edge (Knowledge): X1 --> X2\n",
      "Orienting edge (Knowledge): X1 --> X5\n",
      "Orienting edge (Knowledge): X1 --> X6\n",
      "Orienting edge (Knowledge): X1 --> X8\n",
      "Orienting edge (Knowledge): X1 --> X9\n",
      "Orienting edge (Knowledge): X2 --> X3\n",
      "Orienting edge (Knowledge): X2 --> X6\n",
      "Orienting edge (Knowledge): X2 --> X9\n",
      "Orienting edge (Knowledge): X4 --> X5\n",
      "Orienting edge (Knowledge): X5 --> X6\n",
      "Orienting edge (Knowledge): X7 --> X8\n",
      "Orienting edge (Knowledge): X8 --> X9\n",
      "Finishing BK Orientation.\n",
      "X2 --> X3\n",
      "X2 --> X6\n",
      "X2 --> X9\n",
      "X5 --> X6\n",
      "X8 --> X9\n"
     ]
    }
   ],
   "source": [
    "# learn w/o background knowledge\n",
    "G_nobk, _ = fci(fulltimegraph_data.T, 'chisq', 0.05)\n",
    "nodes = G_nobk.get_nodes()\n",
    "\n",
    "bk = background_knowledge_timeseries(nodes, \n",
    "                                     n_timelags, \n",
    "                                     forbid_contemporaneous_effects=True, \n",
    "                                     forbid_effect_preceeding_cause=True)\n",
    "G_bk_finitesample, _ = fci(fulltimegraph_data.T, 'chisq', alpha=0.001, background_knowledge=bk)\n",
    "\n",
    "# learn w/o background knowledge\n",
    "G_bk_oracle, _ = fci(np.empty(shape=(10**4, G_fulltime.number_of_nodes())), \n",
    "                       d_separation, \n",
    "                       true_dag=G_fulltime,\n",
    "                       background_knowledge=bk,\n",
    "                      )"
   ]
  },
  {
   "cell_type": "code",
   "execution_count": 13,
   "id": "476799f6-f751-4c49-b65f-0aa2a0ed1d63",
   "metadata": {
    "tags": []
   },
   "outputs": [
    {
     "name": "stdout",
     "output_type": "stream",
     "text": [
      "Graph Nodes:\n",
      "X1;X2;X3;X4;X5;X6;X7;X8;X9\n",
      "\n",
      "Graph Edges:\n",
      "1. X1 --> X2\n",
      "2. X1 --> X5\n",
      "3. X1 --> X6\n",
      "4. X1 --> X8\n",
      "5. X1 --> X9\n",
      "6. X2 --> X3\n",
      "7. X2 --> X6\n",
      "8. X2 --> X9\n",
      "9. X4 --> X5\n",
      "10. X5 --> X6\n",
      "11. X7 --> X8\n",
      "12. X8 --> X9\n",
      "\n"
     ]
    }
   ],
   "source": [
    "print(G_bk_oracle)"
   ]
  },
  {
   "cell_type": "code",
   "execution_count": 25,
   "id": "29165662-ab6e-448c-9427-d385ac53e4b6",
   "metadata": {
    "tags": []
   },
   "outputs": [
    {
     "name": "stdout",
     "output_type": "stream",
     "text": [
      "X00->X01\n",
      "X10->X11\n",
      "X20->X21\n"
     ]
    }
   ],
   "source": [
    "G_fulltime_learned = nx.DiGraph()\n",
    "G_fulltime_learned.add_nodes_from(G_fulltime.nodes())\n",
    "\n",
    "#G_learned = G_bk_oracle\n",
    "G_learned = G_bk_finitesample\n",
    "\n",
    "edge_color = []\n",
    "\n",
    "for i, node_name in enumerate(G_summary_observed.nodes()):\n",
    "    node_idx = i*(n_timelags+1)\n",
    "    \n",
    "    for j, target_name in enumerate(G_summary_observed.nodes()):\n",
    "        target_idx = j*(n_timelags+1)\n",
    "        \n",
    "        for current_time in range(n_timelags+1):\n",
    "            \n",
    "            for effect_time in range(n_timelags+1):\n",
    "                \n",
    "                no_arrowhead_atA = G_learned.graph[node_idx + current_time, target_idx + effect_time] == -1\n",
    "                arrowhead_atB = G_learned.graph[target_idx + effect_time, node_idx + current_time] == 1\n",
    "                arrowhead_atA = G_learned.graph[node_idx + current_time, target_idx + effect_time] == 1\n",
    "\n",
    "                if no_arrowhead_atA and arrowhead_atB:\n",
    "                    print(f'X{i}{current_time}->X{j}{effect_time}')\n",
    "                    G_fulltime_learned.add_edge(node_idx+current_time, target_idx+effect_time)\n",
    "                    edge_color.append('black')\n",
    "                    \n",
    "                if arrowhead_atA and arrowhead_atB:\n",
    "                    G_fulltime_learned.add_edge(node_idx + current_time, target_idx + effect_time)\n",
    "                    G_fulltime_learned.add_edge(target_idx + effect_time, node_idx + current_time)\n",
    "                    print(f'X{i}{current_time}<->X{j}{effect_time}')\n",
    "                    edge_color.append('red')\n",
    "                    edge_color.append('red')\n",
    "\n"
   ]
  },
  {
   "cell_type": "code",
   "execution_count": 26,
   "id": "652b3046-2ebe-4a37-879b-c9d852f39ed0",
   "metadata": {
    "tags": []
   },
   "outputs": [
    {
     "data": {
      "image/png": "[encoded data removed]",
      "text/plain": [
       "<Figure size 1000x300 with 1 Axes>"
      ]
     },
     "metadata": {},
     "output_type": "display_data"
    }
   ],
   "source": [
    "plt.figure(figsize=(10, 3))\n",
    "nx.draw_networkx(G_fulltime_learned, pos=pos, labels=with_time_label, node_size=300, edge_color='k')\n",
    "plt.tight_layout()\n",
    "plt.show()"
   ]
  },
  {
   "cell_type": "code",
   "execution_count": 139,
   "id": "788f5890-2a50-4f30-b497-0d8dcd4a2206",
   "metadata": {
    "tags": []
   },
   "outputs": [
    {
     "data": {
      "application/vnd.jupyter.widget-view+json": {
       "model_id": "a11c14fa37f14dd1864f643a3fb5e471",
       "version_major": 2,
       "version_minor": 0
      },
      "text/plain": [
       "  0%|          | 0/8 [00:00<?, ?it/s]"
      ]
     },
     "metadata": {},
     "output_type": "display_data"
    },
    {
     "name": "stdout",
     "output_type": "stream",
     "text": [
      "Starting BK Orientation.\n",
      "Orienting edge (Knowledge): X1 --> X2\n",
      "Orienting edge (Knowledge): X1 --> X8\n",
      "Orienting edge (Knowledge): X2 --> X3\n",
      "Orienting edge (Knowledge): X2 --> X8\n",
      "Orienting edge (Knowledge): X3 --> X4\n",
      "Orienting edge (Knowledge): X3 --> X8\n",
      "Orienting edge (Knowledge): X5 --> X6\n",
      "Orienting edge (Knowledge): X6 --> X7\n",
      "Orienting edge (Knowledge): X7 --> X8\n",
      "Finishing BK Orientation.\n",
      "Starting BK Orientation.\n",
      "Orienting edge (Knowledge): X1 --> X2\n",
      "Orienting edge (Knowledge): X1 --> X8\n",
      "Orienting edge (Knowledge): X2 --> X3\n",
      "Orienting edge (Knowledge): X2 --> X8\n",
      "Orienting edge (Knowledge): X3 --> X4\n",
      "Orienting edge (Knowledge): X3 --> X8\n",
      "Orienting edge (Knowledge): X5 --> X6\n",
      "Orienting edge (Knowledge): X6 --> X7\n",
      "Orienting edge (Knowledge): X7 --> X8\n",
      "Finishing BK Orientation.\n",
      "X2 --> X3\n",
      "X2 --> X8\n",
      "X3 --> X4\n",
      "X3 --> X8\n",
      "X6 --> X7\n",
      "X7 --> X8\n"
     ]
    }
   ],
   "source": [
    "# learn w/o background knowledge\n",
    "G_learned, _ = fci(np.empty(shape=(10**4, G_fulltime.number_of_nodes())), \n",
    "                       d_separation, \n",
    "                       verbose=False, \n",
    "                       true_dag=G_fulltime,\n",
    "                       max_path_length=n_timelags,\n",
    "                       background_knowledge=bk,\n",
    "                       show_progress=True            \n",
    "                      )"
   ]
  },
  {
   "cell_type": "code",
   "execution_count": 140,
   "id": "8c45ca1d-1765-41a6-9f28-6fc799d3e019",
   "metadata": {
    "tags": []
   },
   "outputs": [
    {
     "name": "stdout",
     "output_type": "stream",
     "text": [
      "Graph Nodes:\n",
      "X1;X2;X3;X4;X5;X6;X7;X8\n",
      "\n",
      "Graph Edges:\n",
      "1. X1 --> X2\n",
      "2. X1 o-> X6\n",
      "3. X1 --> X7\n",
      "4. X1 --> X8\n",
      "5. X2 --> X3\n",
      "6. X2 o-> X7\n",
      "7. X2 --> X8\n",
      "8. X3 --> X4\n",
      "9. X3 --> X8\n",
      "10. X5 --> X6\n",
      "11. X6 --> X7\n",
      "12. X7 --> X8\n",
      "\n"
     ]
    }
   ],
   "source": [
    "print(G_learned)"
   ]
  },
  {
   "cell_type": "code",
   "execution_count": 141,
   "id": "2a67718c-7f21-4862-a499-283dcb541d69",
   "metadata": {
    "tags": []
   },
   "outputs": [],
   "source": [
    "nodes = G_learned.get_nodes()"
   ]
  },
  {
   "cell_type": "code",
   "execution_count": 142,
   "id": "978d7d37-6ec3-4a12-ae6b-aebb8c1510ca",
   "metadata": {
    "tags": []
   },
   "outputs": [
    {
     "data": {
      "text/plain": [
       "8"
      ]
     },
     "execution_count": 142,
     "metadata": {},
     "output_type": "execute_result"
    }
   ],
   "source": [
    "len(nodes)"
   ]
  },
  {
   "cell_type": "code",
   "execution_count": 46,
   "id": "6eeba005-8034-4473-8aa3-71ebd027df20",
   "metadata": {
    "tags": []
   },
   "outputs": [],
   "source": [
    "# add background knowledge\n",
    "bk = BackgroundKnowledge()\n",
    "\n",
    "for i in range(num_nodes):\n",
    "    node_idx = i*(n_timelags+1)\n",
    "\n",
    "    for tau in range(n_timelags):\n",
    "        # History effects are required\n",
    "        bk.add_required_by_node(nodes[node_idx + tau], nodes[node_idx + tau + 1])\n",
    "        #print('Require:')\n",
    "        #print(with_time_label[node_idx + tau], '->', with_time_label[node_idx + tau + 1])\n",
    "        #continue\n",
    "           \n",
    "    # loop through nodes in network\n",
    "    for j in range(num_nodes):\n",
    "        target_idx = j*(n_timelags+1)\n",
    "          \n",
    "        for tau in range(n_timelags+1):\n",
    "\n",
    "            if target_idx != node_idx:    \n",
    "                # No contamporareous effects\n",
    "                bk.add_forbidden_by_node(nodes[node_idx + tau], nodes[target_idx + tau])  \n",
    "                #print('Forbidden (simultaneous edges):')\n",
    "                #print(with_time_label[node_idx + tau],'->', with_time_label[target_idx + tau])\n",
    "                #continue\n",
    "\n",
    "            for shift in range(1, tau+1):\n",
    "                    # Not allowed going back in time\n",
    "                    bk.add_forbidden_by_node(nodes[node_idx+tau], nodes[target_idx + tau - shift])\n",
    "                    #print('Forbidden (reverse time edges):')\n",
    "                    #print(with_time_label[node_idx + tau], '->', with_time_label[target_idx + tau - shift])"
   ]
  },
  {
   "cell_type": "code",
   "execution_count": 47,
   "id": "7301fd12-e26b-4e37-9eda-2afc234b8905",
   "metadata": {
    "tags": []
   },
   "outputs": [
    {
     "data": {
      "text/plain": [
       "0"
      ]
     },
     "execution_count": 47,
     "metadata": {},
     "output_type": "execute_result"
    }
   ],
   "source": [
    "with_time_label\n",
    "n_timelags\n",
    "num_nodes // (n_timelags+1)"
   ]
  },
  {
   "cell_type": "code",
   "execution_count": 48,
   "id": "32625019-0a25-4319-9297-213051d98874",
   "metadata": {
    "tags": []
   },
   "outputs": [
    {
     "data": {
      "application/vnd.jupyter.widget-view+json": {
       "model_id": "c7dac12b295b46f8b5b57f1c8e9c7187",
       "version_major": 2,
       "version_minor": 0
      },
      "text/plain": [
       "  0%|          | 0/8 [00:00<?, ?it/s]"
      ]
     },
     "metadata": {},
     "output_type": "display_data"
    },
    {
     "name": "stdout",
     "output_type": "stream",
     "text": [
      "Starting BK Orientation.\n",
      "Orienting edge (Knowledge): X1 --> X2\n",
      "Orienting edge (Knowledge): X1 --> X6\n",
      "Orienting edge (Knowledge): X1 --> X7\n",
      "Orienting edge (Knowledge): X1 --> X8\n",
      "Orienting edge (Knowledge): X2 --> X3\n",
      "Orienting edge (Knowledge): X2 --> X7\n",
      "Orienting edge (Knowledge): X2 --> X8\n",
      "Orienting edge (Knowledge): X3 --> X4\n",
      "Orienting edge (Knowledge): X3 --> X8\n",
      "Orienting edge (Knowledge): X5 --> X6\n",
      "Orienting edge (Knowledge): X6 --> X7\n",
      "Orienting edge (Knowledge): X7 --> X8\n",
      "Finishing BK Orientation.\n",
      "Starting BK Orientation.\n",
      "Orienting edge (Knowledge): X1 --> X2\n",
      "Orienting edge (Knowledge): X1 --> X6\n",
      "Orienting edge (Knowledge): X1 --> X7\n",
      "Orienting edge (Knowledge): X1 --> X8\n",
      "Orienting edge (Knowledge): X2 --> X3\n",
      "Orienting edge (Knowledge): X2 --> X7\n",
      "Orienting edge (Knowledge): X2 --> X8\n",
      "Orienting edge (Knowledge): X3 --> X4\n",
      "Orienting edge (Knowledge): X3 --> X8\n",
      "Orienting edge (Knowledge): X5 --> X6\n",
      "Orienting edge (Knowledge): X6 --> X7\n",
      "Orienting edge (Knowledge): X7 --> X8\n",
      "Finishing BK Orientation.\n",
      "X2 --> X3\n",
      "X2 --> X7\n",
      "X2 --> X8\n",
      "X3 --> X4\n",
      "X3 --> X8\n",
      "X6 --> X7\n",
      "X7 --> X8\n"
     ]
    }
   ],
   "source": [
    "# learn with background knowledge\n",
    "G_learned, _ = fci(np.empty(shape=(10**4, G_fulltime.number_of_nodes())), \n",
    "                       d_separation, 0.01, \n",
    "                       verbose=False, \n",
    "                       true_dag=G_fulltime,\n",
    "                       background_knowledge=bk,\n",
    "                       max_path_length=n_timelags\n",
    "                      )"
   ]
  },
  {
   "cell_type": "code",
   "execution_count": 49,
   "id": "b6dca3ca-cd25-4b97-87d5-3c80fcf15d7e",
   "metadata": {
    "tags": []
   },
   "outputs": [
    {
     "name": "stdout",
     "output_type": "stream",
     "text": [
      "Graph Nodes:\n",
      "X1;X2;X3;X4;X5;X6;X7;X8\n",
      "\n",
      "Graph Edges:\n",
      "1. X1 --> X2\n",
      "2. X1 --> X6\n",
      "3. X1 --> X7\n",
      "4. X1 --> X8\n",
      "5. X2 --> X3\n",
      "6. X2 --> X7\n",
      "7. X2 --> X8\n",
      "8. X3 --> X4\n",
      "9. X3 --> X8\n",
      "10. X5 --> X6\n",
      "11. X6 --> X7\n",
      "12. X7 --> X8\n",
      "\n"
     ]
    }
   ],
   "source": [
    "print(G_learned)"
   ]
  },
  {
   "cell_type": "code",
   "execution_count": 143,
   "id": "6b360f91-cc6d-46ac-9123-ebc327fe24ec",
   "metadata": {
    "tags": []
   },
   "outputs": [
    {
     "name": "stdout",
     "output_type": "stream",
     "text": [
      "Graph Nodes:\n",
      "X1;X2;X3;X4;X5;X6;X7;X8\n",
      "\n",
      "Graph Edges:\n",
      "1. X1 --> X2\n",
      "2. X1 --> X6\n",
      "3. X1 --> X7\n",
      "4. X1 --> X8\n",
      "5. X2 --> X3\n",
      "6. X2 --> X7\n",
      "7. X2 --> X8\n",
      "8. X3 --> X4\n",
      "9. X3 --> X8\n",
      "10. X5 --> X6\n",
      "11. X6 --> X7\n",
      "12. X7 --> X8\n",
      "\n"
     ]
    }
   ],
   "source": [
    "ground_truth_edges = []\n",
    "\n",
    "for u, v in G_fulltime.edges():\n",
    "    ground_truth_edges.append((nodes[u], nodes[v]))\n",
    "    #print(with_time_label[u], '->', with_time_label[v])\n",
    "\n",
    "ground_truth_dag = Dag(nodes)\n",
    "\n",
    "for edge in ground_truth_edges:\n",
    "    u, v = edge\n",
    "    ground_truth_dag.add_directed_edge(u, v)\n",
    "\n",
    "#pag = dag2pag(ground_truth_dag, [])\n",
    "print(ground_truth_dag.graph)"
   ]
  },
  {
   "cell_type": "code",
   "execution_count": 153,
   "id": "986d6725-701c-45bb-b66b-41f8ede058d5",
   "metadata": {
    "tags": []
   },
   "outputs": [],
   "source": [
    "pd = GraphUtils.to_pydot(ground_truth_dag)"
   ]
  },
  {
   "cell_type": "code",
   "execution_count": 154,
   "id": "60f0c793-176b-4119-afb7-ceae9ab3760a",
   "metadata": {
    "tags": []
   },
   "outputs": [
    {
     "ename": "FileNotFoundError",
     "evalue": "[Errno 2] \"dot\" not found in path.",
     "output_type": "error",
     "traceback": [
      "\u001b[0;31m---------------------------------------------------------------------------\u001b[0m",
      "\u001b[0;31mFileNotFoundError\u001b[0m                         Traceback (most recent call last)",
      "File \u001b[0;32m~/anaconda3/envs/spikeenv/lib/python3.11/site-packages/pydot/core.py:1753\u001b[0m, in \u001b[0;36mDot.create\u001b[0;34m(self, prog, format, encoding)\u001b[0m\n\u001b[1;32m   1752\u001b[0m \u001b[38;5;28;01mtry\u001b[39;00m:\n\u001b[0;32m-> 1753\u001b[0m     stdout_data, stderr_data, process \u001b[38;5;241m=\u001b[39m \u001b[43mcall_graphviz\u001b[49m\u001b[43m(\u001b[49m\n\u001b[1;32m   1754\u001b[0m \u001b[43m        \u001b[49m\u001b[43mprogram\u001b[49m\u001b[38;5;241;43m=\u001b[39;49m\u001b[43mprog\u001b[49m\u001b[43m,\u001b[49m\n\u001b[1;32m   1755\u001b[0m \u001b[43m        \u001b[49m\u001b[43marguments\u001b[49m\u001b[38;5;241;43m=\u001b[39;49m\u001b[43marguments\u001b[49m\u001b[43m,\u001b[49m\n\u001b[1;32m   1756\u001b[0m \u001b[43m        \u001b[49m\u001b[43mworking_dir\u001b[49m\u001b[38;5;241;43m=\u001b[39;49m\u001b[43mtmp_dir\u001b[49m\u001b[43m,\u001b[49m\n\u001b[1;32m   1757\u001b[0m \u001b[43m    \u001b[49m\u001b[43m)\u001b[49m\n\u001b[1;32m   1758\u001b[0m \u001b[38;5;28;01mexcept\u001b[39;00m \u001b[38;5;167;01mOSError\u001b[39;00m \u001b[38;5;28;01mas\u001b[39;00m e:\n",
      "File \u001b[0;32m~/anaconda3/envs/spikeenv/lib/python3.11/site-packages/pydot/core.py:133\u001b[0m, in \u001b[0;36mcall_graphviz\u001b[0;34m(program, arguments, working_dir, **kwargs)\u001b[0m\n\u001b[1;32m    131\u001b[0m program_with_args \u001b[38;5;241m=\u001b[39m [program] \u001b[38;5;241m+\u001b[39m arguments\n\u001b[0;32m--> 133\u001b[0m process \u001b[38;5;241m=\u001b[39m \u001b[43msubprocess\u001b[49m\u001b[38;5;241;43m.\u001b[39;49m\u001b[43mPopen\u001b[49m\u001b[43m(\u001b[49m\n\u001b[1;32m    134\u001b[0m \u001b[43m    \u001b[49m\u001b[43mprogram_with_args\u001b[49m\u001b[43m,\u001b[49m\n\u001b[1;32m    135\u001b[0m \u001b[43m    \u001b[49m\u001b[43menv\u001b[49m\u001b[38;5;241;43m=\u001b[39;49m\u001b[43menv\u001b[49m\u001b[43m,\u001b[49m\n\u001b[1;32m    136\u001b[0m \u001b[43m    \u001b[49m\u001b[43mcwd\u001b[49m\u001b[38;5;241;43m=\u001b[39;49m\u001b[43mworking_dir\u001b[49m\u001b[43m,\u001b[49m\n\u001b[1;32m    137\u001b[0m \u001b[43m    \u001b[49m\u001b[43mshell\u001b[49m\u001b[38;5;241;43m=\u001b[39;49m\u001b[38;5;28;43;01mFalse\u001b[39;49;00m\u001b[43m,\u001b[49m\n\u001b[1;32m    138\u001b[0m \u001b[43m    \u001b[49m\u001b[43mstderr\u001b[49m\u001b[38;5;241;43m=\u001b[39;49m\u001b[43msubprocess\u001b[49m\u001b[38;5;241;43m.\u001b[39;49m\u001b[43mPIPE\u001b[49m\u001b[43m,\u001b[49m\n\u001b[1;32m    139\u001b[0m \u001b[43m    \u001b[49m\u001b[43mstdout\u001b[49m\u001b[38;5;241;43m=\u001b[39;49m\u001b[43msubprocess\u001b[49m\u001b[38;5;241;43m.\u001b[39;49m\u001b[43mPIPE\u001b[49m\u001b[43m,\u001b[49m\n\u001b[1;32m    140\u001b[0m \u001b[43m    \u001b[49m\u001b[38;5;241;43m*\u001b[39;49m\u001b[38;5;241;43m*\u001b[39;49m\u001b[43mkwargs\u001b[49m\u001b[43m,\u001b[49m\n\u001b[1;32m    141\u001b[0m \u001b[43m\u001b[49m\u001b[43m)\u001b[49m\n\u001b[1;32m    142\u001b[0m stdout_data, stderr_data \u001b[38;5;241m=\u001b[39m process\u001b[38;5;241m.\u001b[39mcommunicate()\n",
      "File \u001b[0;32m~/anaconda3/envs/spikeenv/lib/python3.11/subprocess.py:1026\u001b[0m, in \u001b[0;36mPopen.__init__\u001b[0;34m(self, args, bufsize, executable, stdin, stdout, stderr, preexec_fn, close_fds, shell, cwd, env, universal_newlines, startupinfo, creationflags, restore_signals, start_new_session, pass_fds, user, group, extra_groups, encoding, errors, text, umask, pipesize, process_group)\u001b[0m\n\u001b[1;32m   1023\u001b[0m             \u001b[38;5;28mself\u001b[39m\u001b[38;5;241m.\u001b[39mstderr \u001b[38;5;241m=\u001b[39m io\u001b[38;5;241m.\u001b[39mTextIOWrapper(\u001b[38;5;28mself\u001b[39m\u001b[38;5;241m.\u001b[39mstderr,\n\u001b[1;32m   1024\u001b[0m                     encoding\u001b[38;5;241m=\u001b[39mencoding, errors\u001b[38;5;241m=\u001b[39merrors)\n\u001b[0;32m-> 1026\u001b[0m     \u001b[38;5;28;43mself\u001b[39;49m\u001b[38;5;241;43m.\u001b[39;49m\u001b[43m_execute_child\u001b[49m\u001b[43m(\u001b[49m\u001b[43margs\u001b[49m\u001b[43m,\u001b[49m\u001b[43m \u001b[49m\u001b[43mexecutable\u001b[49m\u001b[43m,\u001b[49m\u001b[43m \u001b[49m\u001b[43mpreexec_fn\u001b[49m\u001b[43m,\u001b[49m\u001b[43m \u001b[49m\u001b[43mclose_fds\u001b[49m\u001b[43m,\u001b[49m\n\u001b[1;32m   1027\u001b[0m \u001b[43m                        \u001b[49m\u001b[43mpass_fds\u001b[49m\u001b[43m,\u001b[49m\u001b[43m \u001b[49m\u001b[43mcwd\u001b[49m\u001b[43m,\u001b[49m\u001b[43m \u001b[49m\u001b[43menv\u001b[49m\u001b[43m,\u001b[49m\n\u001b[1;32m   1028\u001b[0m \u001b[43m                        \u001b[49m\u001b[43mstartupinfo\u001b[49m\u001b[43m,\u001b[49m\u001b[43m \u001b[49m\u001b[43mcreationflags\u001b[49m\u001b[43m,\u001b[49m\u001b[43m \u001b[49m\u001b[43mshell\u001b[49m\u001b[43m,\u001b[49m\n\u001b[1;32m   1029\u001b[0m \u001b[43m                        \u001b[49m\u001b[43mp2cread\u001b[49m\u001b[43m,\u001b[49m\u001b[43m \u001b[49m\u001b[43mp2cwrite\u001b[49m\u001b[43m,\u001b[49m\n\u001b[1;32m   1030\u001b[0m \u001b[43m                        \u001b[49m\u001b[43mc2pread\u001b[49m\u001b[43m,\u001b[49m\u001b[43m \u001b[49m\u001b[43mc2pwrite\u001b[49m\u001b[43m,\u001b[49m\n\u001b[1;32m   1031\u001b[0m \u001b[43m                        \u001b[49m\u001b[43merrread\u001b[49m\u001b[43m,\u001b[49m\u001b[43m \u001b[49m\u001b[43merrwrite\u001b[49m\u001b[43m,\u001b[49m\n\u001b[1;32m   1032\u001b[0m \u001b[43m                        \u001b[49m\u001b[43mrestore_signals\u001b[49m\u001b[43m,\u001b[49m\n\u001b[1;32m   1033\u001b[0m \u001b[43m                        \u001b[49m\u001b[43mgid\u001b[49m\u001b[43m,\u001b[49m\u001b[43m \u001b[49m\u001b[43mgids\u001b[49m\u001b[43m,\u001b[49m\u001b[43m \u001b[49m\u001b[43muid\u001b[49m\u001b[43m,\u001b[49m\u001b[43m \u001b[49m\u001b[43mumask\u001b[49m\u001b[43m,\u001b[49m\n\u001b[1;32m   1034\u001b[0m \u001b[43m                        \u001b[49m\u001b[43mstart_new_session\u001b[49m\u001b[43m,\u001b[49m\u001b[43m \u001b[49m\u001b[43mprocess_group\u001b[49m\u001b[43m)\u001b[49m\n\u001b[1;32m   1035\u001b[0m \u001b[38;5;28;01mexcept\u001b[39;00m:\n\u001b[1;32m   1036\u001b[0m     \u001b[38;5;66;03m# Cleanup if the child failed starting.\u001b[39;00m\n",
      "File \u001b[0;32m~/anaconda3/envs/spikeenv/lib/python3.11/subprocess.py:1950\u001b[0m, in \u001b[0;36mPopen._execute_child\u001b[0;34m(self, args, executable, preexec_fn, close_fds, pass_fds, cwd, env, startupinfo, creationflags, shell, p2cread, p2cwrite, c2pread, c2pwrite, errread, errwrite, restore_signals, gid, gids, uid, umask, start_new_session, process_group)\u001b[0m\n\u001b[1;32m   1949\u001b[0m         err_msg \u001b[38;5;241m=\u001b[39m os\u001b[38;5;241m.\u001b[39mstrerror(errno_num)\n\u001b[0;32m-> 1950\u001b[0m     \u001b[38;5;28;01mraise\u001b[39;00m child_exception_type(errno_num, err_msg, err_filename)\n\u001b[1;32m   1951\u001b[0m \u001b[38;5;28;01mraise\u001b[39;00m child_exception_type(err_msg)\n",
      "\u001b[0;31mFileNotFoundError\u001b[0m: [Errno 2] No such file or directory: 'dot'",
      "\nDuring handling of the above exception, another exception occurred:\n",
      "\u001b[0;31mFileNotFoundError\u001b[0m                         Traceback (most recent call last)",
      "Cell \u001b[0;32mIn[154], line 1\u001b[0m\n\u001b[0;32m----> 1\u001b[0m \u001b[43mpd\u001b[49m\u001b[38;5;241;43m.\u001b[39;49m\u001b[43mwrite_png\u001b[49m\u001b[43m(\u001b[49m\u001b[38;5;124;43m'\u001b[39;49m\u001b[38;5;124;43mtest.png\u001b[39;49m\u001b[38;5;124;43m'\u001b[39;49m\u001b[43m)\u001b[49m\n",
      "File \u001b[0;32m~/anaconda3/envs/spikeenv/lib/python3.11/site-packages/pydot/core.py:1587\u001b[0m, in \u001b[0;36mDot.__init__.<locals>.new_method\u001b[0;34m(path, f, prog, encoding)\u001b[0m\n\u001b[1;32m   1585\u001b[0m \u001b[38;5;28;01mdef\u001b[39;00m \u001b[38;5;21mnew_method\u001b[39m(path, f\u001b[38;5;241m=\u001b[39mfrmt, prog\u001b[38;5;241m=\u001b[39m\u001b[38;5;28;01mNone\u001b[39;00m, encoding\u001b[38;5;241m=\u001b[39m\u001b[38;5;28;01mNone\u001b[39;00m):\n\u001b[1;32m   1586\u001b[0m \u001b[38;5;250m    \u001b[39m\u001b[38;5;124;03m\"\"\"Refer to docstring of method `write.`\"\"\"\u001b[39;00m\n\u001b[0;32m-> 1587\u001b[0m     \u001b[38;5;28;43mself\u001b[39;49m\u001b[38;5;241;43m.\u001b[39;49m\u001b[43mwrite\u001b[49m\u001b[43m(\u001b[49m\u001b[43mpath\u001b[49m\u001b[43m,\u001b[49m\u001b[43m \u001b[49m\u001b[38;5;28;43mformat\u001b[39;49m\u001b[38;5;241;43m=\u001b[39;49m\u001b[43mf\u001b[49m\u001b[43m,\u001b[49m\u001b[43m \u001b[49m\u001b[43mprog\u001b[49m\u001b[38;5;241;43m=\u001b[39;49m\u001b[43mprog\u001b[49m\u001b[43m,\u001b[49m\u001b[43m \u001b[49m\u001b[43mencoding\u001b[49m\u001b[38;5;241;43m=\u001b[39;49m\u001b[43mencoding\u001b[49m\u001b[43m)\u001b[49m\n",
      "File \u001b[0;32m~/anaconda3/envs/spikeenv/lib/python3.11/site-packages/pydot/core.py:1662\u001b[0m, in \u001b[0;36mDot.write\u001b[0;34m(self, path, prog, format, encoding)\u001b[0m\n\u001b[1;32m   1660\u001b[0m         f\u001b[38;5;241m.\u001b[39mwrite(s)\n\u001b[1;32m   1661\u001b[0m \u001b[38;5;28;01melse\u001b[39;00m:\n\u001b[0;32m-> 1662\u001b[0m     s \u001b[38;5;241m=\u001b[39m \u001b[38;5;28;43mself\u001b[39;49m\u001b[38;5;241;43m.\u001b[39;49m\u001b[43mcreate\u001b[49m\u001b[43m(\u001b[49m\u001b[43mprog\u001b[49m\u001b[43m,\u001b[49m\u001b[43m \u001b[49m\u001b[38;5;28;43mformat\u001b[39;49m\u001b[43m,\u001b[49m\u001b[43m \u001b[49m\u001b[43mencoding\u001b[49m\u001b[38;5;241;43m=\u001b[39;49m\u001b[43mencoding\u001b[49m\u001b[43m)\u001b[49m\n\u001b[1;32m   1663\u001b[0m     \u001b[38;5;28;01mwith\u001b[39;00m io\u001b[38;5;241m.\u001b[39mopen(path, mode\u001b[38;5;241m=\u001b[39m\u001b[38;5;124m\"\u001b[39m\u001b[38;5;124mwb\u001b[39m\u001b[38;5;124m\"\u001b[39m) \u001b[38;5;28;01mas\u001b[39;00m f:\n\u001b[1;32m   1664\u001b[0m         f\u001b[38;5;241m.\u001b[39mwrite(s)\n",
      "File \u001b[0;32m~/anaconda3/envs/spikeenv/lib/python3.11/site-packages/pydot/core.py:1762\u001b[0m, in \u001b[0;36mDot.create\u001b[0;34m(self, prog, format, encoding)\u001b[0m\n\u001b[1;32m   1760\u001b[0m     args \u001b[38;5;241m=\u001b[39m \u001b[38;5;28mlist\u001b[39m(e\u001b[38;5;241m.\u001b[39margs)\n\u001b[1;32m   1761\u001b[0m     args[\u001b[38;5;241m1\u001b[39m] \u001b[38;5;241m=\u001b[39m \u001b[38;5;124m'\u001b[39m\u001b[38;5;124m\"\u001b[39m\u001b[38;5;132;01m{prog}\u001b[39;00m\u001b[38;5;124m\"\u001b[39m\u001b[38;5;124m not found in path.\u001b[39m\u001b[38;5;124m'\u001b[39m\u001b[38;5;241m.\u001b[39mformat(prog\u001b[38;5;241m=\u001b[39mprog)\n\u001b[0;32m-> 1762\u001b[0m     \u001b[38;5;28;01mraise\u001b[39;00m \u001b[38;5;167;01mOSError\u001b[39;00m(\u001b[38;5;241m*\u001b[39margs)\n\u001b[1;32m   1763\u001b[0m \u001b[38;5;28;01melse\u001b[39;00m:\n\u001b[1;32m   1764\u001b[0m     \u001b[38;5;28;01mraise\u001b[39;00m\n",
      "\u001b[0;31mFileNotFoundError\u001b[0m: [Errno 2] \"dot\" not found in path."
     ]
    }
   ],
   "source": [
    "pd.write_png('test.png')"
   ]
  },
  {
   "cell_type": "markdown",
   "id": "52760a35-a778-4502-bcb1-80c94a7f4383",
   "metadata": {
    "tags": []
   },
   "source": [
    "## Alternative testing approaches:\n",
    "- Transfer entropy\n",
    "- Partial correlation"
   ]
  },
  {
   "cell_type": "code",
   "execution_count": 336,
   "id": "7bca506b-5439-4c97-8636-b24d27fc6284",
   "metadata": {},
   "outputs": [
    {
     "data": {
      "text/plain": [
       "{0: 202, 1: 250, 2: 141}"
      ]
     },
     "execution_count": 336,
     "metadata": {},
     "output_type": "execute_result"
    }
   ],
   "source": [
    "idx2nodename"
   ]
  },
  {
   "cell_type": "code",
   "execution_count": 354,
   "id": "8e7f881b-8cef-4f64-b3b6-c89f9a354fee",
   "metadata": {
    "tags": []
   },
   "outputs": [
    {
     "name": "stdout",
     "output_type": "stream",
     "text": [
      "\n"
     ]
    }
   ],
   "source": [
    "pag = dag2pag(ground_truth_dag, islatent=[nodes[0], nodes[1], nodes[2]])"
   ]
  },
  {
   "cell_type": "code",
   "execution_count": 355,
   "id": "72023f08-0bd8-4eb9-966d-fb429ee3fab3",
   "metadata": {
    "tags": []
   },
   "outputs": [
    {
     "name": "stdout",
     "output_type": "stream",
     "text": [
      "Graph Nodes:\n",
      "X5;X4;X8;X9;X7;X6\n",
      "\n",
      "Graph Edges:\n",
      "1. X4 o-> X5\n",
      "2. X5 <-> X8\n",
      "3. X5 <-> X9\n",
      "4. X5 o-o X6\n",
      "5. X4 o-> X6\n",
      "6. X8 o-o X9\n",
      "7. X7 o-> X8\n",
      "8. X8 <-> X6\n",
      "9. X7 o-> X9\n",
      "10. X9 <-> X6\n",
      "\n"
     ]
    }
   ],
   "source": [
    "print(pag)"
   ]
  },
  {
   "cell_type": "markdown",
   "id": "41eeefb1-6a13-45f6-b25a-1563b1840f8f",
   "metadata": {},
   "source": [
    "### Notater\n",
    "- Kan bruke FCI med bakgrunnskunnskap på simulerte data og lære en graf som kan indikere latente variabler\n",
    "- Må implementere: en måte å evaluere resultatet fra FCI\n",
    "- Når jeg har kort refraktær og kobling (1 tidsenhet) så funker finite sample OK for et helt enkelt system med 2 celler og eksitatorisk kobling\n",
    "- burde kanskje anvende fci på ett nettverk med endelig antall datapunkter og se hvor konsistent resultatene er, se hvordan de avhenger av størrelsen på datasettet, og sammenligne ulike CI test metoder"
   ]
  }
 ],
 "metadata": {
  "kernelspec": {
   "display_name": "spikeenv",
   "language": "python",
   "name": "spikeenv"
  },
  "language_info": {
   "codemirror_mode": {
    "name": "ipython",
    "version": 3
   },
   "file_extension": ".py",
   "mimetype": "text/x-python",
   "name": "python",
   "nbconvert_exporter": "python",
   "pygments_lexer": "ipython3",
   "version": "3.11.6"
  }
 },
 "nbformat": 4,
 "nbformat_minor": 5
}
