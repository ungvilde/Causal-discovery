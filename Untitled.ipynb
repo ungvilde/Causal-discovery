{
 "cells": [
  {
   "cell_type": "code",
   "execution_count": 1,
   "id": "d0b18189-d031-4f7c-90e9-34018d4d6029",
   "metadata": {
    "tags": []
   },
   "outputs": [
    {
     "name": "stdout",
     "output_type": "stream",
     "text": [
      "Found existing installation: seaborn 0.12.2\n",
      "Uninstalling seaborn-0.12.2:\n",
      "  Successfully uninstalled seaborn-0.12.2\n"
     ]
    }
   ],
   "source": [
    "!pip uninstall -y seaborn"
   ]
  },
  {
   "cell_type": "code",
   "execution_count": 2,
   "id": "0337cb2e-79ca-4ec7-9515-2b3a6bf7d342",
   "metadata": {
    "tags": []
   },
   "outputs": [],
   "source": [
    "import seaborn as sns"
   ]
  },
  {
   "cell_type": "code",
   "execution_count": 3,
   "id": "3fd5e30a-a6dd-4917-bd5f-a69cad86959b",
   "metadata": {
    "tags": []
   },
   "outputs": [
    {
     "data": {
      "text/plain": [
       "'0.13.0'"
      ]
     },
     "execution_count": 3,
     "metadata": {},
     "output_type": "execute_result"
    }
   ],
   "source": [
    "sns.__version__"
   ]
  },
  {
   "cell_type": "code",
   "execution_count": null,
   "id": "115fed71-18b5-4b82-86b3-5a48534fd17e",
   "metadata": {},
   "outputs": [],
   "source": []
  }
 ],
 "metadata": {
  "kernelspec": {
   "display_name": "spikeenv",
   "language": "python",
   "name": "spikeenv"
  },
  "language_info": {
   "codemirror_mode": {
    "name": "ipython",
    "version": 3
   },
   "file_extension": ".py",
   "mimetype": "text/x-python",
   "name": "python",
   "nbconvert_exporter": "python",
   "pygments_lexer": "ipython3",
   "version": "3.11.6"
  }
 },
 "nbformat": 4,
 "nbformat_minor": 5
}
