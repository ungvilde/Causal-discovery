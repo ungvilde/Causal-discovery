{
 "cells": [
  {
   "cell_type": "code",
   "execution_count": 119,
   "id": "ccdeafaf-0897-4612-958c-5da3e2a5ba41",
   "metadata": {},
   "outputs": [],
   "source": [
    "from scipy.stats import chi2_contingency\n",
    "\n",
    "import torch\n",
    "import matplotlib.pyplot as plt\n",
    "import numpy as np \n",
    "import itertools\n",
    "import statsmodels.api as sm\n",
    "\n",
    "from spikeometric.models import BernoulliGLM\n",
    "from spikeometric.datasets import NormalGenerator, ConnectivityDataset\n",
    "from spikeometric.stimulus import RegularStimulus\n",
    "\n",
    "from torch_geometric.data import Data\n",
    "from torch_geometric.utils import to_dense_adj, to_networkx\n",
    "\n"
   ]
  },
  {
   "cell_type": "markdown",
   "id": "a09a7a5f-80f8-49f9-9c6b-93cb10aabb54",
   "metadata": {},
   "source": [
    "### Test on spike data"
   ]
  },
  {
   "cell_type": "code",
   "execution_count": 198,
   "id": "22706dc4-cbdf-47af-8331-e476ffacedaf",
   "metadata": {},
   "outputs": [],
   "source": [
    "n_neurons = 3\n",
    "n_networks = 1\n",
    "\n",
    "mu=0\n",
    "sigma=10\n",
    "theta = 5\n",
    "\n",
    "# set up the neuron model\n",
    "neuron_model = BernoulliGLM(\n",
    "    theta=theta,\n",
    "    dt=1.,\n",
    "    coupling_window=4,\n",
    "    abs_ref_scale=1,\n",
    "    abs_ref_strength=-100,\n",
    "    rel_ref_scale=0,\n",
    "    rel_ref_strength=-30,\n",
    "    alpha=0.5,\n",
    "    beta=0.5\n",
    ")\n",
    "\n",
    "edge_index = torch.tensor([[0, 0],\n",
    "                           [1, 2]])\n",
    "\n",
    "W0 = torch.tensor([6.0, 7.5])\n",
    "\n",
    "dataset = Data(num_nodes=3, W0=W0, edge_index=edge_index)\n",
    "\n",
    "torch.save(dataset,'data/homemade.pt')\n",
    "example_network = torch.load('data/homemade.pt')"
   ]
  },
  {
   "cell_type": "markdown",
   "id": "de3b7170-3fd9-4951-b768-7b65864513d2",
   "metadata": {},
   "source": [
    "#### Simulate"
   ]
  },
  {
   "cell_type": "code",
   "execution_count": 199,
   "id": "e449f81c-28ea-4c00-97db-c4152b835e2a",
   "metadata": {},
   "outputs": [],
   "source": [
    "#stimulus_masks = torch.tensor([0, 0, 2], dtype=torch.bool) # stimulerer nevron 1\n",
    "#stimulus = lambda t: 2*(t % 1000 < 200)*stimulus_masks\n",
    "#neuron_model.add_stimulus(stimulus)"
   ]
  },
  {
   "cell_type": "code",
   "execution_count": 200,
   "id": "7456c9f3-2833-45cc-a621-fc80b6cadb52",
   "metadata": {},
   "outputs": [],
   "source": [
    "n_timesteps = 10**6\n",
    "spikes = neuron_model.simulate(example_network, n_steps=n_timesteps, verbose=False)"
   ]
  },
  {
   "cell_type": "markdown",
   "id": "72404bc4-34c2-4564-9c30-abd8909b88e5",
   "metadata": {},
   "source": [
    "#### Plot results"
   ]
  },
  {
   "cell_type": "code",
   "execution_count": 113,
   "id": "1bc2221c-654a-4170-9b40-c6f8bb557f8b",
   "metadata": {},
   "outputs": [
    {
     "data": {
      "image/png": "[encoded data removed]",
      "text/plain": [
       "<Figure size 864x216 with 1 Axes>"
      ]
     },
     "metadata": {
      "needs_background": "light"
     },
     "output_type": "display_data"
    }
   ],
   "source": [
    "plt.figure(figsize=(12,3))\n",
    "\n",
    "plt.scatter(np.where(spikes[0,:] == 1)[0], np.zeros_like(np.where(spikes[0,:] == 1)[0]), marker='|', s=100)\n",
    "plt.scatter(np.where(spikes[1,:] == 1)[0], np.ones_like(np.where(spikes[1,:] == 1)[0]), marker='|', s=100)\n",
    "plt.scatter(np.where(spikes[2,:] == 1)[0], 2*np.ones_like(np.where(spikes[2,:] == 1)[0]), marker='|', s=100)\n",
    "\n",
    "plt.yticks([0,1,2])\n",
    "plt.xlabel(\"Time (ms)\")\n",
    "plt.ylabel(\"Neuron index\")\n",
    "plt.xlim([0,10_000])\n",
    "plt.ylim([-0.1,2.1])\n",
    "plt.title(\"Average response to stimulus\")\n",
    "plt.tight_layout()\n",
    "plt.show()"
   ]
  },
  {
   "cell_type": "code",
   "execution_count": 114,
   "id": "bbb13763-af65-4989-9bb0-46e8a54a63f8",
   "metadata": {},
   "outputs": [
    {
     "name": "stdout",
     "output_type": "stream",
     "text": [
      "tensor([[0.0000, 0.7244, 0.9174],\n",
      "        [0.0000, 0.0000, 0.0000],\n",
      "        [0.0000, 0.0000, 0.0000]])\n"
     ]
    }
   ],
   "source": [
    "W0 = to_dense_adj(example_network.edge_index, edge_attr=example_network.W0, max_num_nodes=example_network.num_nodes)[0]\n",
    "true_effect = torch.sigmoid(W0 - torch.tensor(theta)) - torch.sigmoid(-torch.tensor(theta))\n",
    "print(true_effect)"
   ]
  },
  {
   "cell_type": "code",
   "execution_count": 115,
   "id": "f39fc947-8169-4671-8367-1e318cac91f8",
   "metadata": {},
   "outputs": [],
   "source": [
    "# simple test procedure:\n",
    "## create an ordered list of the pairs of variables\n",
    "## for each pair, make a contingency table and test for independence\n",
    "### In principle, we should explore a range of time lags for each pair! For now, look at a single lag\n",
    "\n",
    "## if we reject the null hypotesis, add a directed edge from , when I am looking at "
   ]
  },
  {
   "cell_type": "markdown",
   "id": "275b510e-01a4-4faf-b256-0fee6b6e26b5",
   "metadata": {},
   "source": [
    "### Learn structure"
   ]
  },
  {
   "cell_type": "code",
   "execution_count": 118,
   "id": "c2a89788-9c2d-4f87-9a77-7aa623c56f5f",
   "metadata": {},
   "outputs": [
    {
     "name": "stdout",
     "output_type": "stream",
     "text": [
      "(0, 1) | Ø True 0.0\n",
      "(0, 1) | 2 False 0.3527968200792523\n",
      "(0, 2) | Ø True 0.0\n",
      "(0, 2) | 1 False 0.06939609842479028\n",
      "(1, 0) | Ø True 0.00550860443428573\n",
      "(1, 0) | 2 False 0.24369045346477003\n",
      "(1, 2) | Ø True 2.394654181052114e-05\n",
      "(1, 2) | 0 False 1.0\n",
      "(2, 0) | Ø True 0.00012708707709484278\n",
      "(2, 0) | 1 False 0.2945340703452477\n",
      "(2, 1) | Ø True 4.135584387790198e-07\n",
      "(2, 1) | 0 False 0.6384110259409332\n"
     ]
    }
   ],
   "source": [
    "n = 3 #num nodes\n",
    "nodes = np.arange(0, n)\n",
    "connections = [] #\n",
    "\n",
    "for i in nodes:\n",
    "    source = [i]\n",
    "    targets = np.delete(nodes, i)\n",
    "    connections += itertools.product(source, targets)\n",
    "\n",
    "skeleton = connections.copy()\n",
    "#print(connections)\n",
    "\n",
    "for k in range(len(connections)):\n",
    "    i, j = connections[k]\n",
    "    \n",
    "    target_spikes = torch.roll(spikes[j], -1) \n",
    "    source_spikes = spikes[i]\n",
    "    \n",
    "    # compute counts\n",
    "    n_11 = torch.sum(target_spikes[source_spikes == 1] == 1) # both spike\n",
    "    n_10 = torch.sum(target_spikes[source_spikes == 0] == 1) # only target spikes\n",
    "    n_01 = torch.sum(target_spikes[source_spikes == 1] == 0) # only source spikes\n",
    "    n_00 = torch.sum(target_spikes[source_spikes == 0] == 0) # none spike\n",
    "    \n",
    "    # contingency table\n",
    "    table = np.array([[n_00, n_01], [n_10, n_11]])\n",
    "    _, p, _, _ = chi2_contingency(table)\n",
    "    \n",
    "    print(f'({i}, {j}) | Ø', p < 0.05, p)\n",
    "    if p >= 0.05:\n",
    "        skeleton.remove((i, j))\n",
    "        \n",
    "    for c in nodes:\n",
    "        if c != i and c!=j:\n",
    "            \n",
    "            conditional = np.where(torch.roll(spikes[c], -1) == 1)[0]\n",
    "            target_spikes = torch.roll(spikes[j, conditional], -1) \n",
    "            source_spikes = spikes[i, conditional]\n",
    "\n",
    "            n_11 = torch.sum(target_spikes[source_spikes == 1] == 1) # both spike\n",
    "            n_10 = torch.sum(target_spikes[source_spikes == 0] == 1) # only target spikes\n",
    "            n_01 = torch.sum(target_spikes[source_spikes == 1] == 0) # only source spikes\n",
    "            n_00 = torch.sum(target_spikes[source_spikes == 0] == 0) # none spike\n",
    "\n",
    "            # contingency table\n",
    "            table = np.array([[n_00, n_01], [n_10, n_11]])\n",
    "            \n",
    "            #print(table)\n",
    "            _, p, _, _ = chi2_contingency(table)\n",
    "            print(f'({i}, {j}) | {c}', p < 0.05, p)\n",
    "            \n",
    "            if p >= 0.05:\n",
    "                skeleton.remove((i, j))"
   ]
  },
  {
   "cell_type": "code",
   "execution_count": 117,
   "id": "36da06f5-b354-4546-9aa1-0fed583d9af1",
   "metadata": {},
   "outputs": [
    {
     "name": "stdout",
     "output_type": "stream",
     "text": [
      "[]\n"
     ]
    }
   ],
   "source": [
    "print(skeleton)"
   ]
  },
  {
   "cell_type": "markdown",
   "id": "99961f40-a2a6-45db-8f30-b00110b3ae19",
   "metadata": {},
   "source": [
    "- seems to propose a connection 1 -> 0, even though its not there, consistently. Might be due to refractory effects of excitatory connectivity?\n",
    "- In other words, this method will make spurious connections appear because it cannot account for refractoriness. We need a more flexible model of the dependency between the processes.\n",
    "- We reject a connection 1 - 2 when we condition on neuron 0."
   ]
  },
  {
   "cell_type": "code",
   "execution_count": 72,
   "id": "4278a342-848c-451f-9383-199c3d0fe8c5",
   "metadata": {},
   "outputs": [
    {
     "name": "stdout",
     "output_type": "stream",
     "text": [
      "[[968679  15360]\n",
      " [  9577    116]]\n",
      "(1, 2) True 0.00450695036462697\n"
     ]
    }
   ],
   "source": [
    "i = 1\n",
    "j = 2\n",
    "c = 0\n",
    "\n",
    "conditional = np.where(spikes[c] == 0)[0]\n",
    "target_spikes = torch.roll(spikes[j, conditional], -1) \n",
    "source_spikes = spikes[i, conditional]\n",
    "\n",
    "# condition on neuron 0\n",
    "n_11 = torch.sum(target_spikes[source_spikes == 1] == 1) # both spike\n",
    "n_10 = torch.sum(target_spikes[source_spikes == 0] == 1) # only target spikes\n",
    "n_01 = torch.sum(target_spikes[source_spikes == 1] == 0) # only source spikes\n",
    "n_00 = torch.sum(target_spikes[source_spikes == 0] == 0) # none spike\n",
    "\n",
    "# contingency table\n",
    "table = np.array([[n_00, n_01], [n_10, n_11]])\n",
    "print(table)\n",
    "_, p, _, _ = chi2_contingency(table)\n",
    "print(f'({i}, {j})', p < 0.05, p)"
   ]
  },
  {
   "cell_type": "code",
   "execution_count": 74,
   "id": "39cb7656-f0f3-4dd7-96aa-27af766a05e4",
   "metadata": {},
   "outputs": [
    {
     "name": "stdout",
     "output_type": "stream",
     "text": [
      "[[968653   9603]\n",
      " [ 15386     90]]\n",
      "(2, 1) True 6.240289424718356e-07\n"
     ]
    }
   ],
   "source": [
    "i = 2\n",
    "j = 1\n",
    "c = 0\n",
    "\n",
    "conditional = np.where(spikes[c] == 0)[0]\n",
    "target_spikes = torch.roll(spikes[j, conditional], -1) \n",
    "source_spikes = spikes[i, conditional]\n",
    "\n",
    "# condition on neuron 0\n",
    "n_11 = torch.sum(target_spikes[source_spikes == 1] == 1) # both spike\n",
    "n_10 = torch.sum(target_spikes[source_spikes == 0] == 1) # only target spikes\n",
    "n_01 = torch.sum(target_spikes[source_spikes == 1] == 0) # only source spikes\n",
    "n_00 = torch.sum(target_spikes[source_spikes == 0] == 0) # none spike\n",
    "\n",
    "# contingency table\n",
    "table = np.array([[n_00, n_01], [n_10, n_11]])\n",
    "print(table)\n",
    "_, p, _, _ = chi2_contingency(table)\n",
    "print(f'({i}, {j})', p < 0.05, p)"
   ]
  },
  {
   "cell_type": "code",
   "execution_count": 101,
   "id": "41953b4f-3668-4f8a-9233-ec8de18891eb",
   "metadata": {},
   "outputs": [
    {
     "name": "stdout",
     "output_type": "stream",
     "text": [
      "[(0, 2), (1, 0), (1, 2), (2, 0), (2, 1)]\n"
     ]
    }
   ],
   "source": [
    "skeleton = connections.copy()\n",
    "skeleton.remove((0,1))\n",
    "print(skeleton)\n"
   ]
  },
  {
   "cell_type": "markdown",
   "id": "50a80126-edb9-4955-8114-bb70cc2c82e3",
   "metadata": {},
   "source": [
    "#### try with linear regression t-tests"
   ]
  },
  {
   "cell_type": "code",
   "execution_count": 186,
   "id": "620cf050-3d8b-4d6e-aa9c-fab792ab2f35",
   "metadata": {},
   "outputs": [],
   "source": [
    "stimulus_matrix = torch.zeros((n, n_timesteps))\n",
    "for t in range(n_timesteps):\n",
    "    stimulus_matrix[:,t] = stimulus(t) > 0"
   ]
  },
  {
   "cell_type": "code",
   "execution_count": 201,
   "id": "4fe6f86b-bd7f-4498-8311-1b58c7bb071c",
   "metadata": {},
   "outputs": [
    {
     "name": "stdout",
     "output_type": "stream",
     "text": [
      "Intel MKL WARNING: Support of Intel(R) Streaming SIMD Extensions 4.2 (Intel(R) SSE4.2) enabled only processors has been deprecated. Intel oneAPI Math Kernel Library 2025.0 will require Intel(R) Advanced Vector Extensions (Intel(R) AVX) instructions.\n",
      "Target 0 [0.08338259 0.00123187]\n",
      "Intel MKL WARNING: Support of Intel(R) Streaming SIMD Extensions 4.2 (Intel(R) SSE4.2) enabled only processors has been deprecated. Intel oneAPI Math Kernel Library 2025.0 will require Intel(R) Advanced Vector Extensions (Intel(R) AVX) instructions.\n",
      "Target 1 [0. 0.]\n",
      "Intel MKL WARNING: Support of Intel(R) Streaming SIMD Extensions 4.2 (Intel(R) SSE4.2) enabled only processors has been deprecated. Intel oneAPI Math Kernel Library 2025.0 will require Intel(R) Advanced Vector Extensions (Intel(R) AVX) instructions.\n",
      "Target 2 [0. 0.]\n"
     ]
    }
   ],
   "source": [
    "n = 3 #num nodes\n",
    "nodes = np.arange(0, n)\n",
    "\n",
    "for j in range(n):\n",
    "    \n",
    "    target_spikes = np.array(torch.roll(spikes[j], -1))\n",
    "    source_spikes = np.delete(spikes, j, axis=0)\n",
    "    #stimulus_feature = torch.roll(stimulus_matrix[stimulus_masks == 1], -1)\n",
    "    autoregressive_feature1 = spikes[j]\n",
    "    #autoregressive_feature2 = np.array(torch.roll(spikes[j], -3))\n",
    "    \n",
    "    X = np.vstack((source_spikes, autoregressive_feature1))\n",
    "    \n",
    "    linear_model = sm.OLS(target_spikes.T, sm.add_constant(X.T))\n",
    "    fitted = linear_model.fit()\n",
    "    print(f'Target {j}', np.round(fitted.pvalues[1:3], 8))"
   ]
  },
  {
   "cell_type": "code",
   "execution_count": 212,
   "id": "2ae77802-2370-44a3-a2d8-b170e3f58b44",
   "metadata": {},
   "outputs": [
    {
     "name": "stdout",
     "output_type": "stream",
     "text": [
      "Intel MKL WARNING: Support of Intel(R) Streaming SIMD Extensions 4.2 (Intel(R) SSE4.2) enabled only processors has been deprecated. Intel oneAPI Math Kernel Library 2025.0 will require Intel(R) Advanced Vector Extensions (Intel(R) AVX) instructions.\n",
      "Target 1 [0.         0.20751151 0.        ]\n",
      "Intel MKL WARNING: Support of Intel(R) Streaming SIMD Extensions 4.2 (Intel(R) SSE4.2) enabled only processors has been deprecated. Intel oneAPI Math Kernel Library 2025.0 will require Intel(R) Advanced Vector Extensions (Intel(R) AVX) instructions.\n",
      "Target 2 [0.         0.52499186 0.        ]\n"
     ]
    }
   ],
   "source": [
    "n = 3 #num nodes\n",
    "nodes = np.arange(0, n)\n",
    "\n",
    "for j in range(1, n):\n",
    "    conditioned_on = np.where(spikes[0] == 1)[0]\n",
    "    target_spikes = np.array(torch.roll(spikes[j], -1))[conditioned_on]\n",
    "    source_spikes = np.delete(spikes[:, conditioned_on], [j, 0], axis=0)\n",
    "    #stimulus_feature = torch.roll(stimulus_matrix[stimulus_masks == 1], -1)\n",
    "    autoregressive_feature1 = spikes[j, conditioned_on]\n",
    "    #autoregressive_feature2 = np.array(torch.roll(spikes[j], -3))\n",
    "    \n",
    "    X = np.vstack((source_spikes, autoregressive_feature1))\n",
    "    \n",
    "    linear_model = sm.OLS(target_spikes.T, sm.add_constant(X.T))\n",
    "    fitted = linear_model.fit()\n",
    "    print(f'Target {j}', np.round(fitted.pvalues, 8))"
   ]
  },
  {
   "cell_type": "code",
   "execution_count": 209,
   "id": "db2c96a8-39cd-44f8-9fe9-3646c635cdbb",
   "metadata": {},
   "outputs": [
    {
     "data": {
      "text/plain": [
       "array([   107,    377,    734, ..., 999360, 999448, 999645])"
      ]
     },
     "execution_count": 209,
     "metadata": {},
     "output_type": "execute_result"
    }
   ],
   "source": [
    "np.where(spikes[0] == 1)[0]"
   ]
  },
  {
   "cell_type": "markdown",
   "id": "250b25f3-d52e-4309-92a3-cdece993c04f",
   "metadata": {},
   "source": [
    "- The linear model seems to work, here detecting the correct connections\n",
    "- Need to explore: a bigger network and stimulation\n",
    "- Note: refractory effects are currently not present! When present they ruin it!!! Can try to add autoregeressive coefficients to the model, to see if that lessens the problem."
   ]
  },
  {
   "cell_type": "code",
   "execution_count": 197,
   "id": "cc9bfa4f-e087-4d31-9fed-f90c3c5f66f0",
   "metadata": {},
   "outputs": [
    {
     "data": {
      "text/html": [
       "<table class=\"simpletable\">\n",
       "<caption>OLS Regression Results</caption>\n",
       "<tr>\n",
       "  <th>Dep. Variable:</th>            <td>y</td>        <th>  R-squared:         </th>  <td>   0.440</td> \n",
       "</tr>\n",
       "<tr>\n",
       "  <th>Model:</th>                   <td>OLS</td>       <th>  Adj. R-squared:    </th>  <td>   0.440</td> \n",
       "</tr>\n",
       "<tr>\n",
       "  <th>Method:</th>             <td>Least Squares</td>  <th>  F-statistic:       </th>  <td>2.620e+05</td>\n",
       "</tr>\n",
       "<tr>\n",
       "  <th>Date:</th>             <td>Fri, 10 Nov 2023</td> <th>  Prob (F-statistic):</th>   <td>  0.00</td>  \n",
       "</tr>\n",
       "<tr>\n",
       "  <th>Time:</th>                 <td>13:10:32</td>     <th>  Log-Likelihood:    </th> <td>1.0646e+06</td>\n",
       "</tr>\n",
       "<tr>\n",
       "  <th>No. Observations:</th>      <td>1000000</td>     <th>  AIC:               </th> <td>-2.129e+06</td>\n",
       "</tr>\n",
       "<tr>\n",
       "  <th>Df Residuals:</th>          <td>999996</td>      <th>  BIC:               </th> <td>-2.129e+06</td>\n",
       "</tr>\n",
       "<tr>\n",
       "  <th>Df Model:</th>              <td>     3</td>      <th>                     </th>      <td> </td>    \n",
       "</tr>\n",
       "<tr>\n",
       "  <th>Covariance Type:</th>      <td>nonrobust</td>    <th>                     </th>      <td> </td>    \n",
       "</tr>\n",
       "</table>\n",
       "<table class=\"simpletable\">\n",
       "<tr>\n",
       "    <td></td>       <th>coef</th>     <th>std err</th>      <th>t</th>      <th>P>|t|</th>  <th>[0.025</th>    <th>0.975]</th>  \n",
       "</tr>\n",
       "<tr>\n",
       "  <th>const</th> <td>    0.0067</td> <td> 8.45e-05</td> <td>   79.162</td> <td> 0.000</td> <td>    0.007</td> <td>    0.007</td>\n",
       "</tr>\n",
       "<tr>\n",
       "  <th>x1</th>    <td>    0.9146</td> <td>    0.001</td> <td>  886.370</td> <td> 0.000</td> <td>    0.913</td> <td>    0.917</td>\n",
       "</tr>\n",
       "<tr>\n",
       "  <th>x2</th>    <td>    0.0012</td> <td>    0.001</td> <td>    1.418</td> <td> 0.156</td> <td>   -0.000</td> <td>    0.003</td>\n",
       "</tr>\n",
       "<tr>\n",
       "  <th>x3</th>    <td>   -0.0100</td> <td>    0.001</td> <td>  -12.450</td> <td> 0.000</td> <td>   -0.012</td> <td>   -0.008</td>\n",
       "</tr>\n",
       "</table>\n",
       "<table class=\"simpletable\">\n",
       "<tr>\n",
       "  <th>Omnibus:</th>       <td>1572827.506</td> <th>  Durbin-Watson:     </th>   <td>   2.004</td>   \n",
       "</tr>\n",
       "<tr>\n",
       "  <th>Prob(Omnibus):</th>   <td> 0.000</td>    <th>  Jarque-Bera (JB):  </th> <td>785749520.502</td>\n",
       "</tr>\n",
       "<tr>\n",
       "  <th>Skew:</th>            <td>10.320</td>    <th>  Prob(JB):          </th>   <td>    0.00</td>   \n",
       "</tr>\n",
       "<tr>\n",
       "  <th>Kurtosis:</th>        <td>138.764</td>   <th>  Cond. No.          </th>   <td>    12.4</td>   \n",
       "</tr>\n",
       "</table><br/><br/>Notes:<br/>[1] Standard Errors assume that the covariance matrix of the errors is correctly specified."
      ],
      "text/latex": [
       "\\begin{center}\n",
       "\\begin{tabular}{lclc}\n",
       "\\toprule\n",
       "\\textbf{Dep. Variable:}    &        y         & \\textbf{  R-squared:         } &       0.440    \\\\\n",
       "\\textbf{Model:}            &       OLS        & \\textbf{  Adj. R-squared:    } &       0.440    \\\\\n",
       "\\textbf{Method:}           &  Least Squares   & \\textbf{  F-statistic:       } &   2.620e+05    \\\\\n",
       "\\textbf{Date:}             & Fri, 10 Nov 2023 & \\textbf{  Prob (F-statistic):} &       0.00     \\\\\n",
       "\\textbf{Time:}             &     13:10:32     & \\textbf{  Log-Likelihood:    } &   1.0646e+06   \\\\\n",
       "\\textbf{No. Observations:} &     1000000      & \\textbf{  AIC:               } &   -2.129e+06   \\\\\n",
       "\\textbf{Df Residuals:}     &      999996      & \\textbf{  BIC:               } &   -2.129e+06   \\\\\n",
       "\\textbf{Df Model:}         &           3      & \\textbf{                     } &                \\\\\n",
       "\\textbf{Covariance Type:}  &    nonrobust     & \\textbf{                     } &                \\\\\n",
       "\\bottomrule\n",
       "\\end{tabular}\n",
       "\\begin{tabular}{lcccccc}\n",
       "               & \\textbf{coef} & \\textbf{std err} & \\textbf{t} & \\textbf{P$> |$t$|$} & \\textbf{[0.025} & \\textbf{0.975]}  \\\\\n",
       "\\midrule\n",
       "\\textbf{const} &       0.0067  &     8.45e-05     &    79.162  &         0.000        &        0.007    &        0.007     \\\\\n",
       "\\textbf{x1}    &       0.9146  &        0.001     &   886.370  &         0.000        &        0.913    &        0.917     \\\\\n",
       "\\textbf{x2}    &       0.0012  &        0.001     &     1.418  &         0.156        &       -0.000    &        0.003     \\\\\n",
       "\\textbf{x3}    &      -0.0100  &        0.001     &   -12.450  &         0.000        &       -0.012    &       -0.008     \\\\\n",
       "\\bottomrule\n",
       "\\end{tabular}\n",
       "\\begin{tabular}{lclc}\n",
       "\\textbf{Omnibus:}       & 1572827.506 & \\textbf{  Durbin-Watson:     } &       2.004    \\\\\n",
       "\\textbf{Prob(Omnibus):} &     0.000   & \\textbf{  Jarque-Bera (JB):  } & 785749520.502  \\\\\n",
       "\\textbf{Skew:}          &    10.320   & \\textbf{  Prob(JB):          } &        0.00    \\\\\n",
       "\\textbf{Kurtosis:}      &   138.764   & \\textbf{  Cond. No.          } &        12.4    \\\\\n",
       "\\bottomrule\n",
       "\\end{tabular}\n",
       "%\\caption{OLS Regression Results}\n",
       "\\end{center}\n",
       "\n",
       "Notes: \\newline\n",
       " [1] Standard Errors assume that the covariance matrix of the errors is correctly specified."
      ],
      "text/plain": [
       "<class 'statsmodels.iolib.summary.Summary'>\n",
       "\"\"\"\n",
       "                            OLS Regression Results                            \n",
       "==============================================================================\n",
       "Dep. Variable:                      y   R-squared:                       0.440\n",
       "Model:                            OLS   Adj. R-squared:                  0.440\n",
       "Method:                 Least Squares   F-statistic:                 2.620e+05\n",
       "Date:                Fri, 10 Nov 2023   Prob (F-statistic):               0.00\n",
       "Time:                        13:10:32   Log-Likelihood:             1.0646e+06\n",
       "No. Observations:             1000000   AIC:                        -2.129e+06\n",
       "Df Residuals:                  999996   BIC:                        -2.129e+06\n",
       "Df Model:                           3                                         \n",
       "Covariance Type:            nonrobust                                         \n",
       "==============================================================================\n",
       "                 coef    std err          t      P>|t|      [0.025      0.975]\n",
       "------------------------------------------------------------------------------\n",
       "const          0.0067   8.45e-05     79.162      0.000       0.007       0.007\n",
       "x1             0.9146      0.001    886.370      0.000       0.913       0.917\n",
       "x2             0.0012      0.001      1.418      0.156      -0.000       0.003\n",
       "x3            -0.0100      0.001    -12.450      0.000      -0.012      -0.008\n",
       "==============================================================================\n",
       "Omnibus:                  1572827.506   Durbin-Watson:                   2.004\n",
       "Prob(Omnibus):                  0.000   Jarque-Bera (JB):        785749520.502\n",
       "Skew:                          10.320   Prob(JB):                         0.00\n",
       "Kurtosis:                     138.764   Cond. No.                         12.4\n",
       "==============================================================================\n",
       "\n",
       "Notes:\n",
       "[1] Standard Errors assume that the covariance matrix of the errors is correctly specified.\n",
       "\"\"\""
      ]
     },
     "execution_count": 197,
     "metadata": {},
     "output_type": "execute_result"
    }
   ],
   "source": [
    "fitted.summary()"
   ]
  },
  {
   "cell_type": "code",
   "execution_count": 162,
   "id": "b897fab7-05d2-4c88-8a18-05b3a9d306a6",
   "metadata": {},
   "outputs": [
    {
     "name": "stdout",
     "output_type": "stream",
     "text": [
      "tensor([0, 0, 1, 0, 1]) tensor([0, 1, 0, 1, 0])\n"
     ]
    }
   ],
   "source": [
    "y = torch.tensor([0, 0, 0, 0, 1])\n",
    "x = torch.tensor([0, 0, 0, 1, 0])\n",
    "y_hist = torch.roll(y, -1)\n",
    "print(y, y_hist)"
   ]
  },
  {
   "cell_type": "markdown",
   "id": "64fb2870-84cc-4cc4-8aed-eed6ef59a38a",
   "metadata": {},
   "source": [
    "### Conclusion\n",
    "From the work in this notebook, I can conclude that\n",
    "- Chi-sq testing is not ideal for this data due to refractory effects\n",
    "- A linear model with history effects seems to capture the correct connections in a simple case of a short refractory period\n",
    "\n",
    "Next step will be to\n",
    "- Increase network size\n",
    "- Consider stimulus modelling\n",
    "- Add unobserved latents\n",
    "- Add time-distributed coupling effects\n",
    "\n",
    "To do this in an effective way, I will first need to consider what actually happens when the stimulus affect the neurons. Stimulation should help predict the structure! Right now it is just making it more difficult."
   ]
  }
 ],
 "metadata": {
  "kernelspec": {
   "display_name": "spikeenv",
   "language": "python",
   "name": "spikeenv"
  },
  "language_info": {
   "codemirror_mode": {
    "name": "ipython",
    "version": 3
   },
   "file_extension": ".py",
   "mimetype": "text/x-python",
   "name": "python",
   "nbconvert_exporter": "python",
   "pygments_lexer": "ipython3",
   "version": "3.11.6"
  }
 },
 "nbformat": 4,
 "nbformat_minor": 5
}
