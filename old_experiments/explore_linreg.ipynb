{
 "cells": [
  {
   "cell_type": "code",
   "execution_count": 1,
   "id": "158d75ba-5cdb-4f8e-9c58-661640a4227a",
   "metadata": {},
   "outputs": [
    {
     "name": "stdout",
     "output_type": "stream",
     "text": [
      "Intel MKL WARNING: Support of Intel(R) Streaming SIMD Extensions 4.2 (Intel(R) SSE4.2) enabled only processors has been deprecated. Intel oneAPI Math Kernel Library 2025.0 will require Intel(R) Advanced Vector Extensions (Intel(R) AVX) instructions.\n",
      "Intel MKL WARNING: Support of Intel(R) Streaming SIMD Extensions 4.2 (Intel(R) SSE4.2) enabled only processors has been deprecated. Intel oneAPI Math Kernel Library 2025.0 will require Intel(R) Advanced Vector Extensions (Intel(R) AVX) instructions.\n"
     ]
    }
   ],
   "source": [
    "import sys\n",
    "import torch\n",
    "import matplotlib.pyplot as plt\n",
    "import seaborn as sns\n",
    "import networkx as nx\n",
    "import numpy as np \n",
    "import os\n",
    "import pandas as pd\n",
    "\n",
    "import torch\n",
    "from torch_geometric.utils import add_self_loops, degree\n",
    "\n",
    "sys.path.append(\"..\")\n",
    "\n",
    "from spikeometric.models import BernoulliGLM\n",
    "from spikeometric.datasets import NormalGenerator, ConnectivityDataset, UniformGenerator\n",
    "from spikeometric.stimulus import RegularStimulus\n",
    "from torch_geometric.loader import DataLoader\n",
    "from torch_geometric.utils import to_dense_adj, to_networkx\n",
    "from tqdm import tqdm\n",
    "\n",
    "from sklearn.linear_model import LinearRegression\n",
    "from sklearn import metrics\n",
    "import statsmodels.api as sm"
   ]
  },
  {
   "cell_type": "markdown",
   "id": "106b96fb-96bd-441b-a4b0-5980ed9fbd28",
   "metadata": {},
   "source": [
    "### Create dataset"
   ]
  },
  {
   "cell_type": "code",
   "execution_count": 8,
   "id": "351305c5-bcf0-4f02-9596-7957948083ef",
   "metadata": {},
   "outputs": [],
   "source": [
    "n_neurons = 4\n",
    "n_networks = 1\n",
    "\n",
    "mu=0\n",
    "sigma=10\n",
    "theta = 5\n",
    "\n",
    "generator = NormalGenerator(\n",
    "    n_neurons=n_neurons,\n",
    "    mean=mu,\n",
    "    std=sigma,\n",
    "    glorot=True,\n",
    "    sparsity=0.5\n",
    ")\n",
    "\n",
    "#load connectivity matricies\n",
    "network_data = generator.generate(n_networks)\n",
    "\n",
    "# set up the neuron model\n",
    "neuron_model = BernoulliGLM(\n",
    "    theta=theta,\n",
    "    dt=1.,\n",
    "    coupling_window=2,\n",
    "    abs_ref_scale=0,\n",
    "    abs_ref_strength=-100,\n",
    "    rel_ref_scale=0,\n",
    "    rel_ref_strength=-30,\n",
    "    alpha=5,\n",
    "    beta=0\n",
    ")"
   ]
  },
  {
   "cell_type": "code",
   "execution_count": 3,
   "id": "c0fa0696-dc10-4a3e-b34c-6e6640e8b8bd",
   "metadata": {},
   "outputs": [
    {
     "data": {
      "text/plain": [
       "tensor([ 5.7843,  6.2625,  9.6238, -1.5342, -7.3525, -5.2876])"
      ]
     },
     "execution_count": 3,
     "metadata": {},
     "output_type": "execute_result"
    }
   ],
   "source": [
    "network_data[0].W0"
   ]
  },
  {
   "cell_type": "markdown",
   "id": "cc48fc7c-b87b-4fd6-a555-48624216bd15",
   "metadata": {},
   "source": [
    "#### Construct own network"
   ]
  },
  {
   "cell_type": "code",
   "execution_count": 2,
   "id": "3748fefb-764e-4890-bbd3-44b1b8f19d74",
   "metadata": {},
   "outputs": [
    {
     "name": "stdout",
     "output_type": "stream",
     "text": [
      "torch.Size([2, 2]) torch.Size([2])\n"
     ]
    }
   ],
   "source": [
    "from torch_geometric.data import Data\n",
    "\n",
    "edge_index = torch.tensor([[0, 0],\n",
    "                           [1, 2]])\n",
    "\n",
    "W0 = torch.tensor([6.0, -5.5])\n",
    "\n",
    "dataset = Data(num_nodes=3, W0=W0, edge_index=edge_index)\n",
    "\n",
    "torch.save(dataset,'data/homemade.pt')\n",
    "print(edge_index.shape, W0.shape)"
   ]
  },
  {
   "cell_type": "markdown",
   "id": "a8756cfb-03b1-4952-b4eb-eace2b4e6819",
   "metadata": {},
   "source": [
    "#### Visualise network"
   ]
  },
  {
   "cell_type": "code",
   "execution_count": 3,
   "id": "0e4e40d8-37fe-4604-914c-eed0911c73d0",
   "metadata": {},
   "outputs": [],
   "source": [
    "dataset = torch.load('data/homemade.pt')"
   ]
  },
  {
   "cell_type": "code",
   "execution_count": 4,
   "id": "87c9420c-5323-451e-8a72-3f604ef76c72",
   "metadata": {},
   "outputs": [
    {
     "data": {
      "image/png": "[encoded data removed]",
      "text/plain": [
       "<Figure size 1008x432 with 3 Axes>"
      ]
     },
     "metadata": {
      "needs_background": "light"
     },
     "output_type": "display_data"
    }
   ],
   "source": [
    "# visualisation of one of the networks generated\n",
    "fig, ax = plt.subplots(1, 2, figsize=(14, 6))\n",
    "\n",
    "#example_network = network_data[0]\n",
    "\n",
    "example_network = dataset\n",
    "\n",
    "G = to_networkx(example_network)\n",
    "nx.draw_networkx(G, arrows=True, ax=ax[0])\n",
    "ax[0].set_title(\"Network graph\")\n",
    "\n",
    "W0 = to_dense_adj(example_network.edge_index, edge_attr=example_network.W0, max_num_nodes=example_network.num_nodes)[0]\n",
    "sns.heatmap(W0, ax=ax[1])\n",
    "ax[1].set_title(\"Adjacency matrix\")\n",
    "ax[1].set_xlabel(\"Neuron\")\n",
    "ax[1].set_ylabel(\"Neuron\")\n",
    "\n",
    "plt.tight_layout()\n",
    "plt.show()"
   ]
  },
  {
   "cell_type": "code",
   "execution_count": 5,
   "id": "8cb37b78-4765-4839-a827-b83834ac2663",
   "metadata": {},
   "outputs": [],
   "source": [
    "#neuron_model.tune(example_network, firing_rate=10, tunable_parameters=['theta', 'alpha'])"
   ]
  },
  {
   "cell_type": "markdown",
   "id": "7bd9bca0-86a4-4e58-b312-69d27e93fe70",
   "metadata": {},
   "source": [
    "#### Run the simulation"
   ]
  },
  {
   "cell_type": "code",
   "execution_count": 9,
   "id": "3671454e-2491-4ccb-aba7-b4d71a57b7cd",
   "metadata": {},
   "outputs": [],
   "source": [
    "n_timesteps = 10**5\n",
    "spikes = neuron_model.simulate(example_network, n_steps=n_timesteps, verbose=False)"
   ]
  },
  {
   "cell_type": "markdown",
   "id": "e472a3dd-7a76-4a55-a6a1-afdedfab18c5",
   "metadata": {},
   "source": [
    "#### Plot the activity"
   ]
  },
  {
   "cell_type": "code",
   "execution_count": 10,
   "id": "fa06489b-c1f9-40e2-b24b-ef1d8ada35bc",
   "metadata": {},
   "outputs": [
    {
     "data": {
      "image/png": "[encoded data removed]",
      "text/plain": [
       "<Figure size 864x216 with 1 Axes>"
      ]
     },
     "metadata": {
      "needs_background": "light"
     },
     "output_type": "display_data"
    }
   ],
   "source": [
    "# Plot the results\n",
    "#plt.imshow(spikes, aspect=\"auto\", cmap=\"binary\", interpolation=\"none\")\n",
    "plt.figure(figsize=(12,3))\n",
    "\n",
    "plt.scatter(np.where(spikes[0,:] == 1)[0], np.zeros_like(np.where(spikes[0,:] == 1)[0]), marker='|', s=100)\n",
    "plt.scatter(np.where(spikes[1,:] == 1)[0], np.ones_like(np.where(spikes[1,:] == 1)[0]), marker='|', s=100)\n",
    "plt.scatter(np.where(spikes[2,:] == 1)[0], 2*np.ones_like(np.where(spikes[2,:] == 1)[0]), marker='|', s=100)\n",
    "\n",
    "plt.yticks([0,1,2])\n",
    "plt.xlabel(\"Time (ms)\")\n",
    "plt.ylabel(\"Neuron index\")\n",
    "plt.xlim([0,5000])\n",
    "plt.ylim([-0.1,2.1])\n",
    "plt.title(\"Average response to stimulus\")\n",
    "plt.tight_layout()\n",
    "plt.show()"
   ]
  },
  {
   "cell_type": "markdown",
   "id": "6a49e379-135e-4bc0-9d86-719b306efd4d",
   "metadata": {},
   "source": [
    "### Learn structure with linear regression"
   ]
  },
  {
   "cell_type": "code",
   "execution_count": 10,
   "id": "a220e6e7-4d7b-48f4-87d4-7fa15099cecf",
   "metadata": {},
   "outputs": [
    {
     "name": "stdout",
     "output_type": "stream",
     "text": [
      "tensor([[ 0.0000,  6.0000, -5.5000],\n",
      "        [ 0.0000,  0.0000,  0.0000],\n",
      "        [ 0.0000,  0.0000,  0.0000]])\n",
      "tensor([[ 0.0000,  0.7244, -0.0067],\n",
      "        [ 0.0000,  0.0000,  0.0000],\n",
      "        [ 0.0000,  0.0000,  0.0000]])\n"
     ]
    }
   ],
   "source": [
    "print(W0)\n",
    "#theta = 2.7760\n",
    "true_effect = torch.sigmoid(W0 - torch.tensor(theta)) - torch.sigmoid(-torch.tensor(theta))\n",
    "print(true_effect)"
   ]
  },
  {
   "cell_type": "code",
   "execution_count": 11,
   "id": "0a799c7e-97bf-43f7-9d57-bc4f9f743de9",
   "metadata": {},
   "outputs": [
    {
     "name": "stdout",
     "output_type": "stream",
     "text": [
      "torch.Size([2, 100000]) torch.Size([100000])\n"
     ]
    }
   ],
   "source": [
    "target_neuron = 2\n",
    "X = spikes[:target_neuron]\n",
    "y = spikes[target_neuron]\n",
    "print(X.shape, y.shape)"
   ]
  },
  {
   "cell_type": "code",
   "execution_count": 12,
   "id": "c0990ae1-3d78-451d-a4bd-59ed9ca1e453",
   "metadata": {},
   "outputs": [
    {
     "data": {
      "text/plain": [
       "tensor([[0, 0, 0,  ..., 0, 0, 0],\n",
       "        [0, 0, 0,  ..., 0, 0, 0]], dtype=torch.int32)"
      ]
     },
     "execution_count": 12,
     "metadata": {},
     "output_type": "execute_result"
    }
   ],
   "source": [
    "X"
   ]
  },
  {
   "cell_type": "code",
   "execution_count": 15,
   "id": "adb997e2-5220-4e8e-b9e2-1102d9b2ab40",
   "metadata": {},
   "outputs": [
    {
     "name": "stdout",
     "output_type": "stream",
     "text": [
      "[-0.00651391 -0.00019087]\n"
     ]
    }
   ],
   "source": [
    "linear_model = LinearRegression()\n",
    "linear_model.fit(X.T, torch.roll(y, -1).T)\n",
    "print(linear_model.coef_)\n",
    "#linear_model.predict(torch.tensor([1]).reshape(-1, 1)) - linear_model.predict(torch.tensor([0]).reshape(-1, 1))"
   ]
  },
  {
   "cell_type": "code",
   "execution_count": 20,
   "id": "8d9bd38f-a6e2-450b-89ff-2a94947a55ce",
   "metadata": {},
   "outputs": [
    {
     "name": "stdout",
     "output_type": "stream",
     "text": [
      "Intel MKL WARNING: Support of Intel(R) Streaming SIMD Extensions 4.2 (Intel(R) SSE4.2) enabled only processors has been deprecated. Intel oneAPI Math Kernel Library 2025.0 will require Intel(R) Advanced Vector Extensions (Intel(R) AVX) instructions.\n",
      "[0.     0.0382 0.9371]\n"
     ]
    }
   ],
   "source": [
    "y_rolled = torch.roll(y, -1)\n",
    "y2 = np.array(y_rolled)\n",
    "expected_y = torch.mean(y_rolled[X[0] == 1], dtype=torch.float) - torch.mean(y_rolled[X[0] == 0], dtype=torch.float)\n",
    "#print(expected_y)\n",
    "#print(true_effect[0, target_neuron])\n",
    "\n",
    "X2 = np.array(sm.add_constant(X.T))\n",
    "\n",
    "#print(y2.shape, X2.shape)\n",
    "linear_model = sm.OLS(y2.T, np.array(sm.add_constant(X.T)))\n",
    "results = linear_model.fit()\n",
    "print(np.round(results.pvalues, 4))\n",
    "#results.summary()"
   ]
  },
  {
   "cell_type": "code",
   "execution_count": 194,
   "id": "e6d57f89-4308-4339-bd77-a7bb2e651bb9",
   "metadata": {},
   "outputs": [
    {
     "data": {
      "text/plain": [
       "array([ 0.00667708, -0.0066901 ,  0.0027136 ])"
      ]
     },
     "execution_count": 194,
     "metadata": {},
     "output_type": "execute_result"
    }
   ],
   "source": [
    "effect_predicted"
   ]
  },
  {
   "cell_type": "code",
   "execution_count": null,
   "id": "6f9d1f86-7abd-4fc0-a907-461d483b91a1",
   "metadata": {},
   "outputs": [],
   "source": []
  },
  {
   "cell_type": "code",
   "execution_count": null,
   "id": "3d4defe4-e2bb-4344-8fbf-2b3222cc3788",
   "metadata": {},
   "outputs": [],
   "source": []
  },
  {
   "cell_type": "markdown",
   "id": "d898d5dd-90e4-4700-9146-a776940e24cd",
   "metadata": {},
   "source": [
    "### Now try to learn with stimulus"
   ]
  },
  {
   "cell_type": "code",
   "execution_count": 25,
   "id": "2d56ba89-7106-46c8-abbd-892989fb3cf0",
   "metadata": {},
   "outputs": [],
   "source": [
    "stimulus_masks = torch.tensor([0, 1, 0], dtype=torch.bool) # stimulerer nevron 1\n",
    "neuron_model.add_stimulus(lambda t: 2*(t % 1000 < 200)*stimulus_masks)"
   ]
  },
  {
   "cell_type": "code",
   "execution_count": 26,
   "id": "50489ae2-12f6-40c3-a61f-39fb07e0f7f4",
   "metadata": {},
   "outputs": [],
   "source": [
    "spikes = neuron_model.simulate(example_network, n_steps=n_timesteps, verbose=False)"
   ]
  },
  {
   "cell_type": "code",
   "execution_count": 30,
   "id": "0024e17e-8f8b-42a9-ac50-7781ddae8a17",
   "metadata": {},
   "outputs": [],
   "source": [
    "n_neurons = 3\n",
    "stimulus_feature = torch.zeros((n_neurons, n_timesteps))"
   ]
  },
  {
   "cell_type": "code",
   "execution_count": 31,
   "id": "58623e0d-3906-4bfb-83d1-8a443fa31f42",
   "metadata": {},
   "outputs": [],
   "source": [
    "stimulus = lambda t: (t % 1000 < 200)*stimulus_masks"
   ]
  },
  {
   "cell_type": "code",
   "execution_count": 32,
   "id": "5df058c1-c6c2-4822-8c1e-a6a2bd322f4b",
   "metadata": {},
   "outputs": [],
   "source": [
    "for t in range(n_timesteps):\n",
    "    stimulus_feature[:,t] = stimulus(t) "
   ]
  },
  {
   "cell_type": "code",
   "execution_count": 33,
   "id": "ffdc4423-0304-4514-a12b-8e0b33ce9c06",
   "metadata": {},
   "outputs": [],
   "source": [
    "X = spikes[:target_neuron]"
   ]
  },
  {
   "cell_type": "code",
   "execution_count": 39,
   "id": "f755a536-1ac8-480c-8142-f599cf388247",
   "metadata": {},
   "outputs": [
    {
     "data": {
      "text/plain": [
       "tensor([ True,  True,  True,  ..., False, False, False])"
      ]
     },
     "execution_count": 39,
     "metadata": {},
     "output_type": "execute_result"
    }
   ],
   "source": [
    "stimulus_feature[1] == 1"
   ]
  },
  {
   "cell_type": "code",
   "execution_count": 40,
   "id": "2bf46799-e250-4eda-8b06-792b4638d90c",
   "metadata": {},
   "outputs": [],
   "source": [
    "X1 = X[:, stimulus_feature[1] == 1]"
   ]
  },
  {
   "cell_type": "code",
   "execution_count": 41,
   "id": "cdfdafdd-4b78-447f-bd90-4bae4605ff54",
   "metadata": {},
   "outputs": [],
   "source": [
    "y_rolled = torch.roll(spikes[target_neuron], -1)"
   ]
  },
  {
   "cell_type": "code",
   "execution_count": 42,
   "id": "b50de173-5ace-424b-9c31-bf25bc8e2ce0",
   "metadata": {},
   "outputs": [],
   "source": [
    "y1 = y_rolled[stimulus_feature[1] == 1]"
   ]
  },
  {
   "cell_type": "code",
   "execution_count": 43,
   "id": "f2c7de6d-37dc-4965-a0db-f41d5270e656",
   "metadata": {},
   "outputs": [
    {
     "name": "stdout",
     "output_type": "stream",
     "text": [
      "torch.Size([20000]) torch.Size([2, 20000])\n"
     ]
    }
   ],
   "source": [
    "print(y1.shape, X1.shape)"
   ]
  },
  {
   "cell_type": "code",
   "execution_count": 47,
   "id": "d7b8aadd-9bd9-4511-b69c-1f3a0171d8cf",
   "metadata": {},
   "outputs": [
    {
     "data": {
      "image/png": "[encoded data removed]",
      "text/plain": [
       "<Figure size 864x216 with 1 Axes>"
      ]
     },
     "metadata": {
      "needs_background": "light"
     },
     "output_type": "display_data"
    }
   ],
   "source": [
    "# Plot the results\n",
    "#plt.imshow(spikes, aspect=\"auto\", cmap=\"binary\", interpolation=\"none\")\n",
    "plt.figure(figsize=(12,3))\n",
    "plt.hlines(np.where(stimulus_masks == True)[0], 0, n_timesteps, linestyles='dashed', alpha=0.2)\n",
    "plt.scatter(np.where(spikes[0,:] == 1)[0], np.zeros_like(np.where(spikes[0,:] == 1)[0]), marker='|', s=100)\n",
    "plt.scatter(np.where(spikes[1,:] == 1)[0], np.ones_like(np.where(spikes[1,:] == 1)[0]), marker='|', s=100)\n",
    "plt.scatter(np.where(spikes[2,:] == 1)[0], 2*np.ones_like(np.where(spikes[2,:] == 1)[0]), marker='|', s=100)\n",
    "\n",
    "plt.yticks([0,1, 2])\n",
    "plt.xlabel(\"Time (ms)\")\n",
    "plt.ylabel(\"Neuron index\")\n",
    "plt.xlim([0,5000])\n",
    "plt.ylim([-0.1,2.1])\n",
    "plt.title(\"Average response to stimulus\")\n",
    "plt.tight_layout()\n",
    "plt.show()"
   ]
  },
  {
   "cell_type": "code",
   "execution_count": 76,
   "id": "83874a75-69b8-4c25-961e-125201ff32d9",
   "metadata": {},
   "outputs": [
    {
     "data": {
      "text/html": [
       "<style>#sk-container-id-6 {color: black;}#sk-container-id-6 pre{padding: 0;}#sk-container-id-6 div.sk-toggleable {background-color: white;}#sk-container-id-6 label.sk-toggleable__label {cursor: pointer;display: block;width: 100%;margin-bottom: 0;padding: 0.3em;box-sizing: border-box;text-align: center;}#sk-container-id-6 label.sk-toggleable__label-arrow:before {content: \"▸\";float: left;margin-right: 0.25em;color: #696969;}#sk-container-id-6 label.sk-toggleable__label-arrow:hover:before {color: black;}#sk-container-id-6 div.sk-estimator:hover label.sk-toggleable__label-arrow:before {color: black;}#sk-container-id-6 div.sk-toggleable__content {max-height: 0;max-width: 0;overflow: hidden;text-align: left;background-color: #f0f8ff;}#sk-container-id-6 div.sk-toggleable__content pre {margin: 0.2em;color: black;border-radius: 0.25em;background-color: #f0f8ff;}#sk-container-id-6 input.sk-toggleable__control:checked~div.sk-toggleable__content {max-height: 200px;max-width: 100%;overflow: auto;}#sk-container-id-6 input.sk-toggleable__control:checked~label.sk-toggleable__label-arrow:before {content: \"▾\";}#sk-container-id-6 div.sk-estimator input.sk-toggleable__control:checked~label.sk-toggleable__label {background-color: #d4ebff;}#sk-container-id-6 div.sk-label input.sk-toggleable__control:checked~label.sk-toggleable__label {background-color: #d4ebff;}#sk-container-id-6 input.sk-hidden--visually {border: 0;clip: rect(1px 1px 1px 1px);clip: rect(1px, 1px, 1px, 1px);height: 1px;margin: -1px;overflow: hidden;padding: 0;position: absolute;width: 1px;}#sk-container-id-6 div.sk-estimator {font-family: monospace;background-color: #f0f8ff;border: 1px dotted black;border-radius: 0.25em;box-sizing: border-box;margin-bottom: 0.5em;}#sk-container-id-6 div.sk-estimator:hover {background-color: #d4ebff;}#sk-container-id-6 div.sk-parallel-item::after {content: \"\";width: 100%;border-bottom: 1px solid gray;flex-grow: 1;}#sk-container-id-6 div.sk-label:hover label.sk-toggleable__label {background-color: #d4ebff;}#sk-container-id-6 div.sk-serial::before {content: \"\";position: absolute;border-left: 1px solid gray;box-sizing: border-box;top: 0;bottom: 0;left: 50%;z-index: 0;}#sk-container-id-6 div.sk-serial {display: flex;flex-direction: column;align-items: center;background-color: white;padding-right: 0.2em;padding-left: 0.2em;position: relative;}#sk-container-id-6 div.sk-item {position: relative;z-index: 1;}#sk-container-id-6 div.sk-parallel {display: flex;align-items: stretch;justify-content: center;background-color: white;position: relative;}#sk-container-id-6 div.sk-item::before, #sk-container-id-6 div.sk-parallel-item::before {content: \"\";position: absolute;border-left: 1px solid gray;box-sizing: border-box;top: 0;bottom: 0;left: 50%;z-index: -1;}#sk-container-id-6 div.sk-parallel-item {display: flex;flex-direction: column;z-index: 1;position: relative;background-color: white;}#sk-container-id-6 div.sk-parallel-item:first-child::after {align-self: flex-end;width: 50%;}#sk-container-id-6 div.sk-parallel-item:last-child::after {align-self: flex-start;width: 50%;}#sk-container-id-6 div.sk-parallel-item:only-child::after {width: 0;}#sk-container-id-6 div.sk-dashed-wrapped {border: 1px dashed gray;margin: 0 0.4em 0.5em 0.4em;box-sizing: border-box;padding-bottom: 0.4em;background-color: white;}#sk-container-id-6 div.sk-label label {font-family: monospace;font-weight: bold;display: inline-block;line-height: 1.2em;}#sk-container-id-6 div.sk-label-container {text-align: center;}#sk-container-id-6 div.sk-container {/* jupyter's `normalize.less` sets `[hidden] { display: none; }` but bootstrap.min.css set `[hidden] { display: none !important; }` so we also need the `!important` here to be able to override the default hidden behavior on the sphinx rendered scikit-learn.org. See: https://github.com/scikit-learn/scikit-learn/issues/21755 */display: inline-block !important;position: relative;}#sk-container-id-6 div.sk-text-repr-fallback {display: none;}</style><div id=\"sk-container-id-6\" class=\"sk-top-container\"><div class=\"sk-text-repr-fallback\"><pre>LinearRegression()</pre><b>In a Jupyter environment, please rerun this cell to show the HTML representation or trust the notebook. <br />On GitHub, the HTML representation is unable to render, please try loading this page with nbviewer.org.</b></div><div class=\"sk-container\" hidden><div class=\"sk-item\"><div class=\"sk-estimator sk-toggleable\"><input class=\"sk-toggleable__control sk-hidden--visually\" id=\"sk-estimator-id-6\" type=\"checkbox\" checked><label for=\"sk-estimator-id-6\" class=\"sk-toggleable__label sk-toggleable__label-arrow\">LinearRegression</label><div class=\"sk-toggleable__content\"><pre>LinearRegression()</pre></div></div></div></div></div>"
      ],
      "text/plain": [
       "LinearRegression()"
      ]
     },
     "execution_count": 76,
     "metadata": {},
     "output_type": "execute_result"
    }
   ],
   "source": [
    "#linear_model = LinearRegression()\n",
    "#linear_model.fit(X1.T, y1.T)\n",
    "#print(linear_model.coef_)\n",
    "#print(true_effect[0,1])"
   ]
  },
  {
   "cell_type": "code",
   "execution_count": 48,
   "id": "e079b10c-5b22-49a1-9b4a-f0019d0516c1",
   "metadata": {},
   "outputs": [
    {
     "name": "stdout",
     "output_type": "stream",
     "text": [
      "(20000, 3) (20000,)\n",
      "Intel MKL WARNING: Support of Intel(R) Streaming SIMD Extensions 4.2 (Intel(R) SSE4.2) enabled only processors has been deprecated. Intel oneAPI Math Kernel Library 2025.0 will require Intel(R) Advanced Vector Extensions (Intel(R) AVX) instructions.\n"
     ]
    }
   ],
   "source": [
    "y2 = np.array(y1)\n",
    "X2 = np.array(sm.add_constant(X1.T))\n",
    "print(X2.shape, y2.shape)\n",
    "linear_model = sm.OLS(y2.T, X2)\n",
    "results = linear_model.fit()\n",
    "effect_predicted = results.params"
   ]
  },
  {
   "cell_type": "code",
   "execution_count": 49,
   "id": "dd3d8cc2-5276-4833-8e50-b7d30e1a0e11",
   "metadata": {},
   "outputs": [
    {
     "name": "stdout",
     "output_type": "stream",
     "text": [
      "[ 0.00657339 -0.00641971 -0.00257402]\n"
     ]
    },
    {
     "data": {
      "text/html": [
       "<table class=\"simpletable\">\n",
       "<caption>OLS Regression Results</caption>\n",
       "<tr>\n",
       "  <th>Dep. Variable:</th>            <td>y</td>        <th>  R-squared:         </th>  <td>   0.000</td> \n",
       "</tr>\n",
       "<tr>\n",
       "  <th>Model:</th>                   <td>OLS</td>       <th>  Adj. R-squared:    </th>  <td>  -0.000</td> \n",
       "</tr>\n",
       "<tr>\n",
       "  <th>Method:</th>             <td>Least Squares</td>  <th>  F-statistic:       </th>  <td>  0.9354</td> \n",
       "</tr>\n",
       "<tr>\n",
       "  <th>Date:</th>             <td>Mon, 06 Nov 2023</td> <th>  Prob (F-statistic):</th>   <td> 0.392</td>  \n",
       "</tr>\n",
       "<tr>\n",
       "  <th>Time:</th>                 <td>13:37:16</td>     <th>  Log-Likelihood:    </th>  <td>  22201.</td> \n",
       "</tr>\n",
       "<tr>\n",
       "  <th>No. Observations:</th>      <td> 20000</td>      <th>  AIC:               </th> <td>-4.440e+04</td>\n",
       "</tr>\n",
       "<tr>\n",
       "  <th>Df Residuals:</th>          <td> 19997</td>      <th>  BIC:               </th> <td>-4.437e+04</td>\n",
       "</tr>\n",
       "<tr>\n",
       "  <th>Df Model:</th>              <td>     2</td>      <th>                     </th>      <td> </td>    \n",
       "</tr>\n",
       "<tr>\n",
       "  <th>Covariance Type:</th>      <td>nonrobust</td>    <th>                     </th>      <td> </td>    \n",
       "</tr>\n",
       "</table>\n",
       "<table class=\"simpletable\">\n",
       "<tr>\n",
       "    <td></td>       <th>coef</th>     <th>std err</th>      <th>t</th>      <th>P>|t|</th>  <th>[0.025</th>    <th>0.975]</th>  \n",
       "</tr>\n",
       "<tr>\n",
       "  <th>const</th> <td>    0.0066</td> <td>    0.001</td> <td>   11.323</td> <td> 0.000</td> <td>    0.005</td> <td>    0.008</td>\n",
       "</tr>\n",
       "<tr>\n",
       "  <th>x1</th>    <td>   -0.0064</td> <td>    0.007</td> <td>   -0.929</td> <td> 0.353</td> <td>   -0.020</td> <td>    0.007</td>\n",
       "</tr>\n",
       "<tr>\n",
       "  <th>x2</th>    <td>   -0.0026</td> <td>    0.003</td> <td>   -1.001</td> <td> 0.317</td> <td>   -0.008</td> <td>    0.002</td>\n",
       "</tr>\n",
       "</table>\n",
       "<table class=\"simpletable\">\n",
       "<tr>\n",
       "  <th>Omnibus:</th>       <td>34362.897</td> <th>  Durbin-Watson:     </th>   <td>   2.013</td>  \n",
       "</tr>\n",
       "<tr>\n",
       "  <th>Prob(Omnibus):</th>  <td> 0.000</td>   <th>  Jarque-Bera (JB):  </th> <td>19568910.040</td>\n",
       "</tr>\n",
       "<tr>\n",
       "  <th>Skew:</th>           <td>12.378</td>   <th>  Prob(JB):          </th>   <td>    0.00</td>  \n",
       "</tr>\n",
       "<tr>\n",
       "  <th>Kurtosis:</th>       <td>154.228</td>  <th>  Cond. No.          </th>   <td>    12.3</td>  \n",
       "</tr>\n",
       "</table><br/><br/>Notes:<br/>[1] Standard Errors assume that the covariance matrix of the errors is correctly specified."
      ],
      "text/latex": [
       "\\begin{center}\n",
       "\\begin{tabular}{lclc}\n",
       "\\toprule\n",
       "\\textbf{Dep. Variable:}    &        y         & \\textbf{  R-squared:         } &      0.000    \\\\\n",
       "\\textbf{Model:}            &       OLS        & \\textbf{  Adj. R-squared:    } &     -0.000    \\\\\n",
       "\\textbf{Method:}           &  Least Squares   & \\textbf{  F-statistic:       } &     0.9354    \\\\\n",
       "\\textbf{Date:}             & Mon, 06 Nov 2023 & \\textbf{  Prob (F-statistic):} &     0.392     \\\\\n",
       "\\textbf{Time:}             &     13:37:16     & \\textbf{  Log-Likelihood:    } &     22201.    \\\\\n",
       "\\textbf{No. Observations:} &       20000      & \\textbf{  AIC:               } &  -4.440e+04   \\\\\n",
       "\\textbf{Df Residuals:}     &       19997      & \\textbf{  BIC:               } &  -4.437e+04   \\\\\n",
       "\\textbf{Df Model:}         &           2      & \\textbf{                     } &               \\\\\n",
       "\\textbf{Covariance Type:}  &    nonrobust     & \\textbf{                     } &               \\\\\n",
       "\\bottomrule\n",
       "\\end{tabular}\n",
       "\\begin{tabular}{lcccccc}\n",
       "               & \\textbf{coef} & \\textbf{std err} & \\textbf{t} & \\textbf{P$> |$t$|$} & \\textbf{[0.025} & \\textbf{0.975]}  \\\\\n",
       "\\midrule\n",
       "\\textbf{const} &       0.0066  &        0.001     &    11.323  &         0.000        &        0.005    &        0.008     \\\\\n",
       "\\textbf{x1}    &      -0.0064  &        0.007     &    -0.929  &         0.353        &       -0.020    &        0.007     \\\\\n",
       "\\textbf{x2}    &      -0.0026  &        0.003     &    -1.001  &         0.317        &       -0.008    &        0.002     \\\\\n",
       "\\bottomrule\n",
       "\\end{tabular}\n",
       "\\begin{tabular}{lclc}\n",
       "\\textbf{Omnibus:}       & 34362.897 & \\textbf{  Durbin-Watson:     } &      2.013    \\\\\n",
       "\\textbf{Prob(Omnibus):} &    0.000  & \\textbf{  Jarque-Bera (JB):  } & 19568910.040  \\\\\n",
       "\\textbf{Skew:}          &   12.378  & \\textbf{  Prob(JB):          } &       0.00    \\\\\n",
       "\\textbf{Kurtosis:}      &  154.228  & \\textbf{  Cond. No.          } &       12.3    \\\\\n",
       "\\bottomrule\n",
       "\\end{tabular}\n",
       "%\\caption{OLS Regression Results}\n",
       "\\end{center}\n",
       "\n",
       "Notes: \\newline\n",
       " [1] Standard Errors assume that the covariance matrix of the errors is correctly specified."
      ],
      "text/plain": [
       "<class 'statsmodels.iolib.summary.Summary'>\n",
       "\"\"\"\n",
       "                            OLS Regression Results                            \n",
       "==============================================================================\n",
       "Dep. Variable:                      y   R-squared:                       0.000\n",
       "Model:                            OLS   Adj. R-squared:                 -0.000\n",
       "Method:                 Least Squares   F-statistic:                    0.9354\n",
       "Date:                Mon, 06 Nov 2023   Prob (F-statistic):              0.392\n",
       "Time:                        13:37:16   Log-Likelihood:                 22201.\n",
       "No. Observations:               20000   AIC:                        -4.440e+04\n",
       "Df Residuals:                   19997   BIC:                        -4.437e+04\n",
       "Df Model:                           2                                         \n",
       "Covariance Type:            nonrobust                                         \n",
       "==============================================================================\n",
       "                 coef    std err          t      P>|t|      [0.025      0.975]\n",
       "------------------------------------------------------------------------------\n",
       "const          0.0066      0.001     11.323      0.000       0.005       0.008\n",
       "x1            -0.0064      0.007     -0.929      0.353      -0.020       0.007\n",
       "x2            -0.0026      0.003     -1.001      0.317      -0.008       0.002\n",
       "==============================================================================\n",
       "Omnibus:                    34362.897   Durbin-Watson:                   2.013\n",
       "Prob(Omnibus):                  0.000   Jarque-Bera (JB):         19568910.040\n",
       "Skew:                          12.378   Prob(JB):                         0.00\n",
       "Kurtosis:                     154.228   Cond. No.                         12.3\n",
       "==============================================================================\n",
       "\n",
       "Notes:\n",
       "[1] Standard Errors assume that the covariance matrix of the errors is correctly specified.\n",
       "\"\"\""
      ]
     },
     "execution_count": 49,
     "metadata": {},
     "output_type": "execute_result"
    }
   ],
   "source": [
    "print(effect_predicted)\n",
    "results.summary()"
   ]
  },
  {
   "cell_type": "code",
   "execution_count": 194,
   "id": "5857d05a-3fb1-4c18-b8b2-22dee75ca6d6",
   "metadata": {},
   "outputs": [
    {
     "data": {
      "text/html": [
       "<div>\n",
       "<style scoped>\n",
       "    .dataframe tbody tr th:only-of-type {\n",
       "        vertical-align: middle;\n",
       "    }\n",
       "\n",
       "    .dataframe tbody tr th {\n",
       "        vertical-align: top;\n",
       "    }\n",
       "\n",
       "    .dataframe thead th {\n",
       "        text-align: right;\n",
       "    }\n",
       "</style>\n",
       "<table border=\"1\" class=\"dataframe\">\n",
       "  <thead>\n",
       "    <tr style=\"text-align: right;\">\n",
       "      <th></th>\n",
       "      <th>0</th>\n",
       "      <th>1</th>\n",
       "    </tr>\n",
       "  </thead>\n",
       "  <tbody>\n",
       "    <tr>\n",
       "      <th>0</th>\n",
       "      <td>0</td>\n",
       "      <td>0</td>\n",
       "    </tr>\n",
       "    <tr>\n",
       "      <th>1</th>\n",
       "      <td>0</td>\n",
       "      <td>0</td>\n",
       "    </tr>\n",
       "    <tr>\n",
       "      <th>2</th>\n",
       "      <td>0</td>\n",
       "      <td>0</td>\n",
       "    </tr>\n",
       "    <tr>\n",
       "      <th>3</th>\n",
       "      <td>1</td>\n",
       "      <td>0</td>\n",
       "    </tr>\n",
       "    <tr>\n",
       "      <th>4</th>\n",
       "      <td>0</td>\n",
       "      <td>1</td>\n",
       "    </tr>\n",
       "    <tr>\n",
       "      <th>...</th>\n",
       "      <td>...</td>\n",
       "      <td>...</td>\n",
       "    </tr>\n",
       "    <tr>\n",
       "      <th>99995</th>\n",
       "      <td>0</td>\n",
       "      <td>0</td>\n",
       "    </tr>\n",
       "    <tr>\n",
       "      <th>99996</th>\n",
       "      <td>0</td>\n",
       "      <td>0</td>\n",
       "    </tr>\n",
       "    <tr>\n",
       "      <th>99997</th>\n",
       "      <td>0</td>\n",
       "      <td>0</td>\n",
       "    </tr>\n",
       "    <tr>\n",
       "      <th>99998</th>\n",
       "      <td>0</td>\n",
       "      <td>0</td>\n",
       "    </tr>\n",
       "    <tr>\n",
       "      <th>99999</th>\n",
       "      <td>0</td>\n",
       "      <td>0</td>\n",
       "    </tr>\n",
       "  </tbody>\n",
       "</table>\n",
       "<p>100000 rows × 2 columns</p>\n",
       "</div>"
      ],
      "text/plain": [
       "       0  1\n",
       "0      0  0\n",
       "1      0  0\n",
       "2      0  0\n",
       "3      1  0\n",
       "4      0  1\n",
       "...   .. ..\n",
       "99995  0  0\n",
       "99996  0  0\n",
       "99997  0  0\n",
       "99998  0  0\n",
       "99999  0  0\n",
       "\n",
       "[100000 rows x 2 columns]"
      ]
     },
     "execution_count": 194,
     "metadata": {},
     "output_type": "execute_result"
    }
   ],
   "source": [
    "df"
   ]
  },
  {
   "cell_type": "code",
   "execution_count": 50,
   "id": "e814b65e-eb48-467b-a964-ffdf3f2dd72d",
   "metadata": {},
   "outputs": [
    {
     "name": "stdout",
     "output_type": "stream",
     "text": [
      "tensor(-0.0006)\n"
     ]
    }
   ],
   "source": [
    "ATE = torch.mean(y[stimulus_feature[1] == 1], dtype=torch.float) - torch.mean(y[stimulus_feature[1] == 0], dtype=torch.float) \n",
    "print(ATE)"
   ]
  },
  {
   "cell_type": "code",
   "execution_count": 51,
   "id": "0611860b-e2e0-4e3e-9d46-417e81570ffd",
   "metadata": {},
   "outputs": [
    {
     "data": {
      "text/plain": [
       "tensor([], dtype=torch.int32)"
      ]
     },
     "execution_count": 51,
     "metadata": {},
     "output_type": "execute_result"
    }
   ],
   "source": [
    "y[stimulus_feature[0] == 1]"
   ]
  },
  {
   "cell_type": "code",
   "execution_count": 52,
   "id": "17c43f1c-748f-4fba-be86-73f1f4c4f3cb",
   "metadata": {},
   "outputs": [
    {
     "data": {
      "text/plain": [
       "tensor(-0.0006)"
      ]
     },
     "execution_count": 52,
     "metadata": {},
     "output_type": "execute_result"
    }
   ],
   "source": [
    "ATE"
   ]
  },
  {
   "cell_type": "code",
   "execution_count": null,
   "id": "517f2429-8398-487b-b6bd-1de0ce7b98e8",
   "metadata": {},
   "outputs": [],
   "source": []
  }
 ],
 "metadata": {
  "kernelspec": {
   "display_name": "spikeenv",
   "language": "python",
   "name": "spikeenv"
  },
  "language_info": {
   "codemirror_mode": {
    "name": "ipython",
    "version": 3
   },
   "file_extension": ".py",
   "mimetype": "text/x-python",
   "name": "python",
   "nbconvert_exporter": "python",
   "pygments_lexer": "ipython3",
   "version": "3.11.6"
  }
 },
 "nbformat": 4,
 "nbformat_minor": 5
}
